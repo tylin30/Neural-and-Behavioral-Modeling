{
 "cells": [
  {
   "cell_type": "markdown",
   "metadata": {},
   "source": [
    "# Neural & Behavioral Modeling - Week 9 (Examples)\n",
    "by Tsung-Ren (Tren) Huang (tren.huang@gmail.com)"
   ]
  },
  {
   "cell_type": "code",
   "execution_count": 1,
   "metadata": {
    "collapsed": true
   },
   "outputs": [],
   "source": [
    "%config IPCompleter.greedy=True \n",
    "%matplotlib inline\n",
    "from numpy import *\n",
    "from matplotlib.pyplot import *\n",
    "from IPython.display import *\n",
    "from time import sleep"
   ]
  },
  {
   "cell_type": "markdown",
   "metadata": {},
   "source": [
    "## 1 Neural Computation"
   ]
  },
  {
   "cell_type": "markdown",
   "metadata": {},
   "source": [
    "### 1.1 Pattern Recognition"
   ]
  },
  {
   "cell_type": "code",
   "execution_count": 2,
   "metadata": {},
   "outputs": [
    {
     "name": "stdout",
     "output_type": "stream",
     "text": [
      "[[ 0.]\n",
      " [ 1.]\n",
      " [ 0.]]\n"
     ]
    }
   ],
   "source": [
    "RETINA=matrix('0 0 0 0 0;0 0 1 0 0;0 1 1 1 0')\n",
    "LGN_RF=matrix('0;-0.5;1;-0.5;0')\n",
    "LGN_RESPONSE=RETINA*LGN_RF\n",
    "print(LGN_RESPONSE)"
   ]
  },
  {
   "cell_type": "markdown",
   "metadata": {},
   "source": [
    "### 1.2 Perceptron w/o learning"
   ]
  },
  {
   "cell_type": "code",
   "execution_count": 3,
   "metadata": {},
   "outputs": [
    {
     "name": "stdout",
     "output_type": "stream",
     "text": [
      "-1\n",
      "-1\n",
      "1\n",
      "1\n",
      "1\n"
     ]
    },
    {
     "data": {
      "image/png": "[encoded data removed]",
      "text/plain": [
       "<matplotlib.figure.Figure at 0x112295278>"
      ]
     },
     "metadata": {},
     "output_type": "display_data"
    }
   ],
   "source": [
    "X = array([   #[x1,x2,bias]\n",
    "    [-2,4, -1], \n",
    "    [4,1, -1],\n",
    "    [1, 6, -1],\n",
    "    [2, 4, -1],\n",
    "    [6, 2, -1],\n",
    "])\n",
    "\n",
    "y = array([-1,-1,1,1,1])\n",
    "\n",
    "# The hyperplane:\n",
    "w=[2, 3, 13] # w0x0+w1x1-w2=0 => x1=(w2-w0x0)/w1\n",
    "p1=(w[2]-w[0]*(-2))/w[1] # point 1 of the hyperplane: (-2, p1)\n",
    "p2=(w[2]-w[0]*6)/w[1] # point 2 of the hyperplane: (6, p2)\n",
    "\n",
    "# Testing:\n",
    "for i, x in enumerate(X):\n",
    "    print(sign(dot(X[i], w)))\n",
    "    \n",
    "# Ploting:\n",
    "for i, x in enumerate(X): # samples\n",
    "    if(i<2): scatter(x[0],x[1],marker='_',color='r')\n",
    "    else: scatter(x[0],x[1],marker='+',color='b')\n",
    "plot([-2,p1],[6,p2],'g'); # the hyperplane"
   ]
  },
  {
   "cell_type": "markdown",
   "metadata": {},
   "source": [
    "## 2 Unsupervised Learning"
   ]
  },
  {
   "cell_type": "markdown",
   "metadata": {},
   "source": [
    "### 2.1 Hopfield Network"
   ]
  },
  {
   "cell_type": "code",
   "execution_count": 4,
   "metadata": {},
   "outputs": [
    {
     "data": {
      "image/png": "[encoded data removed]",
      "text/plain": [
       "<matplotlib.figure.Figure at 0x1172ab5f8>"
      ]
     },
     "metadata": {},
     "output_type": "display_data"
    }
   ],
   "source": [
    "p=array([\n",
    "    [-1,1,-1,-1,1,-1,-1,1,-1], # 3x3 pattern 1\n",
    "    [-1,-1,-1,1,1,1,-1,-1,-1], # 3x3 pattern 2\n",
    "    [1,-1,1,-1,1,-1,1,-1,1],   # 3x3 pattern 3\n",
    "])\n",
    "\n",
    "w=zeros([9,9]);\n",
    "for i in range(3):\n",
    "    subplot(2,3,i+1);\n",
    "    imshow(p[i].reshape((3,3)),cmap='gray')\n",
    "    w=w+outer(p[i],p[i]); # learning\n",
    "\n",
    "# Retrieval cue:\n",
    "subplot(2,3,4)\n",
    "cue=array([0.3,-1,0,-1,0,0,0.5,0,0])\n",
    "imshow(cue.reshape((3,3)),cmap='gray')\n",
    "\n",
    "# Recalling:\n",
    "for t in [2,3]:\n",
    "    subplot(2,3,t+3);\n",
    "    recall=matmul(w,cue)>0\n",
    "    imshow(recall.reshape((3,3)),cmap='gray')"
   ]
  },
  {
   "cell_type": "markdown",
   "metadata": {},
   "source": [
    "### 2.2 Instar/OutStar Learning"
   ]
  },
  {
   "cell_type": "code",
   "execution_count": 5,
   "metadata": {},
   "outputs": [
    {
     "name": "stdout",
     "output_type": "stream",
     "text": [
      "[ 0.16758495  0.358417    0.67058822] 0.199011235611\n",
      "[ 0.10751966  0.58837125  0.430238  ] 0.358416999323\n",
      "[ 0.04425818  0.83056177  0.17709833] 0.588371253242\n",
      "[ 0.00749903  0.97129069  0.03000723] 0.830561774843\n",
      "[  2.15291927e-04   9.99175775e-01   8.61486836e-04] 0.971290687856\n",
      "[  1.77448903e-07   9.99999321e-01   7.10058646e-07] 0.999175775396\n",
      "[  1.20549238e-13   1.00000000e+00   4.82375641e-13] 0.999999320654\n",
      "[  5.56367819e-26   1.00000000e+00   2.22648102e-25] 1.0\n",
      "[ 0.  1.  0.] 1.0\n",
      "[ 0.  1.  0.] 1.0\n"
     ]
    }
   ],
   "source": [
    "x=array([0,1,0])\n",
    "W1=random.rand(3); W2=random.rand(3)\n",
    "for i in range(10): # trials \n",
    "    y=dot(W1,x) # Bottom-up F1→F2\n",
    "    W1+=y*(x-W1) # Postsynaptically gated InStar \n",
    "    W2+=y*(x-W2) # Presynaptically gated OutStar \n",
    "    x2=dot(W2,y) # Top-down F2→F1\n",
    "    print(W1,y)"
   ]
  },
  {
   "cell_type": "markdown",
   "metadata": {},
   "source": [
    "### 2.3 Self-Organizing Map (Buggy)"
   ]
  },
  {
   "cell_type": "code",
   "execution_count": 6,
   "metadata": {},
   "outputs": [
    {
     "data": {
      "image/png": "[encoded data removed]",
      "text/plain": [
       "<matplotlib.figure.Figure at 0x11a5fbf28>"
      ]
     },
     "metadata": {},
     "output_type": "display_data"
    }
   ],
   "source": [
    "# 2D Kohonen SOM:\n",
    "nn=10 # 10x10 neurons\n",
    "lmbda=0.2 # learning rate\n",
    "sig=4.0 # sigma of the neighbor function\n",
    "[X,Y]=meshgrid(range(1,nn+1),range(1,nn+1)) # topoical coordiates (x,y) of neurons\n",
    "\n",
    "# Initial preferred features (x,y)=(c1,c2):\n",
    "c1=0.5-.1*(2*random.rand(nn,nn)-1); # Xs of 10x10 neurons\n",
    "c2=0.5-.1*(2*random.rand(nn,nn)-1); # Ys of 10x10 neurons\n",
    "\n",
    "# Training:\n",
    "for t in range(1000):\n",
    "    x=0.5*random.rand(2) # stimuli ranged in [0,0.5]x[0,0.5]\n",
    "    r=exp(-(c1-x[0])**2-(c2-x[1])**2); # neurons' responses to stimuli\n",
    "    xy=where(r==amax(r)) # who is the winner\n",
    "    r=exp(-((X-xy[0][0])**2+(Y-xy[1][0])**2)/sig) # topological neighborhood function\n",
    "    c1=c1+lmbda*r*(x[0]-c1); # Kohonen learning of inputs' Xs\n",
    "    c2=c2+lmbda*r*(x[1]-c2); # Kohonen learning of inputs' Ys\n",
    "                                                         \n",
    "clf() # clear previous figure\n",
    "plot(c1,c2,'ro'); plot(c1,c2,'k'); plot(c1.T,c2.T,'k');\n",
    "axis([0,1,0,1]); title(str(t)+' : '+str(x))\n",
    "display(gcf()); clear_output(wait=True) # to allow dynamic plots"
   ]
  },
  {
   "cell_type": "markdown",
   "metadata": {},
   "source": [
    "## 3. Supervised Learning"
   ]
  },
  {
   "cell_type": "markdown",
   "metadata": {},
   "source": [
    "### 3.1 Delta Rule (Not ported from Matlab to Python yet)"
   ]
  },
  {
   "cell_type": "code",
   "execution_count": 7,
   "metadata": {},
   "outputs": [
    {
     "ename": "SyntaxError",
     "evalue": "invalid syntax (<ipython-input-7-4e1bf18f391a>, line 5)",
     "output_type": "error",
     "traceback": [
      "\u001b[0;36m  File \u001b[0;32m\"<ipython-input-7-4e1bf18f391a>\"\u001b[0;36m, line \u001b[0;32m5\u001b[0m\n\u001b[0;31m    InPat=[1 0 0 0;1 0 0 0;1 1 0 0;0 0 1 0;0 0 0 1;0 0 1 1];\u001b[0m\n\u001b[0m             ^\u001b[0m\n\u001b[0;31mSyntaxError\u001b[0m\u001b[0;31m:\u001b[0m invalid syntax\n"
     ]
    }
   ],
   "source": [
    "% this script trains a two-layered network of units\n",
    "% with the squashing activation funciton to associate \n",
    "% patterns using the delta rule \n",
    "\n",
    "InPat=[1 0 0 0;1 0 0 0;1 1 0 0;0 0 1 0;0 0 0 1;0 0 1 1];\n",
    "DesOut=[1 0;1 0;1 0;0 1;0 1;0 1];\n",
    "\n",
    "a=1; % set the learning rate\n",
    "tol=0.1; % set the tolerance\n",
    "nIts=100000; % set the maximum number of allowed iterations\n",
    "[nPat,nIn]=size(InPat); % find numbers of patterns and inputs \n",
    "[nPat,nOut]=size(DesOut); % find numbers of patterns and outputs \n",
    "W=rand(nOut,nIn)*2-1; % set initially random connectivity matrix\n",
    "maxErr=10; % set the maximum error to an initially high value\n",
    "\n",
    "for c=1:nIts, % for each learning iteration\n",
    "   pIndx=ceil(rand*nPat); % choose pattern pair at random\n",
    "   d=DesOut(pIndx,:)'; % set desired output d to chosen output\n",
    "   x=InPat(pIndx,:)'; % set input x to chosen input pattern\n",
    "   q=W*x; % find the weighted sum q of the inputs\n",
    "   y=1./(1+exp(-q)); % squash that to compute the output y\n",
    "   dy=y.*(1-y); % compute the derivative of the squashing function\n",
    "   e=d-y; % find the error e for the chosen input\n",
    "   g=e.*dy; % find output error signal g\n",
    "   deltaW=a*g*x'; % compute delta rule weight update  \n",
    "   W=W+deltaW;  % apply the weight update\n",
    "   if rem(c,(5*nPat))==0, % after several updates check maximum error\n",
    "      Q=(W*InPat')'; % compute the weighted input sum for all patterns\n",
    "      Out=1./(1+exp(-Q)); % squash to compute output for all patterns\n",
    "      maxErr=max(abs(DesOut-Out)); % find max error over all patterns\n",
    "   end % end the check\n",
    "   if maxErr<tol, break, end % break if max error is below tolerance\n",
    "end % end learning loop\n",
    "\n",
    "Out"
   ]
  },
  {
   "cell_type": "markdown",
   "metadata": {},
   "source": [
    "### 3.2 Perceptron w/ learning\n"
   ]
  },
  {
   "cell_type": "code",
   "execution_count": 7,
   "metadata": {},
   "outputs": [
    {
     "name": "stdout",
     "output_type": "stream",
     "text": [
      "-1.0\n",
      "-1.0\n",
      "1.0\n",
      "1.0\n",
      "1.0\n"
     ]
    },
    {
     "data": {
      "image/png": "[encoded data removed]",
      "text/plain": [
       "<matplotlib.figure.Figure at 0x7f51d2ed2240>"
      ]
     },
     "metadata": {},
     "output_type": "display_data"
    }
   ],
   "source": [
    "# Supporting function: -----------------------\n",
    "def sgd(X, Y): # Stochastic Gradient Descent\n",
    "    w = zeros(len(X[0]))\n",
    "    eta = 1\n",
    "    epochs = 20\n",
    "    errors = []\n",
    "    for t in range(epochs):\n",
    "        total_error = 0\n",
    "        for i, x in enumerate(X):\n",
    "            if (dot(X[i], w)*Y[i]) <= 0:\n",
    "                total_error += (np.dot(X[i], w)*Y[i])\n",
    "                w = w + eta*X[i]*Y[i]\n",
    "        errors.append(total_error*-1)\n",
    "    plot(errors); xlabel('Epoch'); ylabel('Total Loss')\n",
    "    return w\n",
    "#----------------------------------------------\n",
    "\n",
    "X = array([   #[x1,x2,bias]\n",
    "    [-2,4, -1], \n",
    "    [4,1, -1],\n",
    "    [1, 6, -1],\n",
    "    [2, 4, -1],\n",
    "    [6, 2, -1],\n",
    "])\n",
    "\n",
    "y = array([-1,-1,1,1,1])\n",
    "# Learning:\n",
    "w = sgd(X,y)\n",
    "\n",
    "# Testing:\n",
    "for i, x in enumerate(X):\n",
    "    print(sign(dot(X[i], w))) "
   ]
  },
  {
   "cell_type": "markdown",
   "metadata": {},
   "source": [
    "### 3.3 Backpropagation (Not ported from Matlab to Python yet)"
   ]
  },
  {
   "cell_type": "code",
   "execution_count": null,
   "metadata": {
    "collapsed": true
   },
   "outputs": [],
   "source": [
    "% this script trains a three-layered network of units\n",
    "% with the squashing activation funciton to associate \n",
    "% patterns using backpropagation\n",
    "\n",
    "InPat=[1 0 0 0;1 0 0 0;1 1 0 0;0 0 1 0;0 0 0 1;0 0 1 1];\n",
    "DesOut=[1 0;1 0;1 0;0 1;0 1;0 1];\n",
    "\n",
    "a=0.1; % set the learning rate\n",
    "tol=0.1; % set the tolerance\n",
    "b=1; % set the bias\n",
    "nIts=100000; % set the maximum number of allowed iterations\n",
    "nHid=1; % set the number of hidden units\n",
    "[nPat,nIn]=size(InPat); % find number of patterns and number of inputs \n",
    "[nPat,nOut]=size(DesOut); % find number of patterns and number of outputs \n",
    "V=rand(nHid,nIn+1)*2-1; % set initial input-hidden connectivity matrix\n",
    "U=rand(nOut,nHid+1)*2-1; % set initial hidden-output connectivity matrix\n",
    "deltaV=zeros(nHid,nIn+1); % define input-hidden change matrices\n",
    "deltaU=zeros(nOut,nHid+1); % define hidden-output change matrices\n",
    "maxErr=10; % set the maximum error to an initially high value\n",
    "\n",
    "for c=1:nIts, % for each learning iteration\n",
    "    pIndx=ceil(rand*nPat); % choose pattern pair at random\n",
    "    d=DesOut(pIndx,:); % set desired output to chosen output\n",
    "    x=[InPat(pIndx,:) b]'; % append the bias to the input vector\n",
    "    y=1./(1+exp(-V*x)); % compute the hidden unit response\n",
    "    y=[y' b]'; % append the bias to the hidden unit vector\n",
    "    z=1./(1+exp(-U*y)); % compute the output unit response\n",
    "    e=d-z'; % find the error vector\n",
    "    if max(abs(e))>tol, % train if any error exceeds tolerance\n",
    "        x=x';y=y';z=z'; % convert column to row vectors\n",
    "        zg=e.*(z.*(1-z)); % compute the output error signal\n",
    "        yg=(y.*(1-y)).*(zg*U); % compute hidden error signal\n",
    "        deltaU=a*zg'*y; % compute the change in hidden-output weights\n",
    "        deltaV=a*yg(1:nHid)'*x; % compute change in input-hidden weights\n",
    "        U=U+deltaU; % update the hidden-output weights\n",
    "        V=V+deltaV; % update the input-hidden weights\n",
    "     end % end the training conditional\n",
    "    if rem(c,(5*nPat))==0, % every so often check network performance\n",
    "        Inb=[InPat b*ones(nPat,1)]; % append bias to all input patterns\n",
    "        Hid=(1./(1+exp(-V*Inb')))'; % find hid response to all patterns\n",
    "        Hidb=[Hid b*ones(nPat,1)]; % append bias to all hidden vectors\n",
    "        Out=(1./(1+exp(-U*Hidb')))'; % find out response to all patterns\n",
    "        maxErr=max(abs(abs(DesOut-Out))); % max error over all patterns\n",
    "    end % end check conditional\n",
    "    if maxErr<tol, break, end, % break if all errors within tolerance\n",
    "end % end training loop\n",
    "\n",
    "Out"
   ]
  },
  {
   "cell_type": "markdown",
   "metadata": {},
   "source": [
    "## 4. Reinforcement Learning"
   ]
  },
  {
   "cell_type": "markdown",
   "metadata": {},
   "source": [
    "### 4.1 Temporal difference learning (Not ported from Matlab to Python yet)"
   ]
  },
  {
   "cell_type": "code",
   "execution_count": null,
   "metadata": {
    "collapsed": true
   },
   "outputs": [],
   "source": [
    "% this script simulates the DA neuron response\n",
    "\n",
    "clear all;close all;\n",
    "a=0.3; % set learning rate\n",
    "r=0.9; % temporal discounting\n",
    "nTrials=200; % set number of trials\n",
    "nTimes=50; % set number of time steps per trial\n",
    "qTime=15; % set time of cue\n",
    "rTime=25; % set time of reward\n",
    "\n",
    "X=zeros(1,nTimes); % input vector \n",
    "X(qTime:rTime-1)=1; % binary status: 0=None; 1=Yes\n",
    "%X(qTime)=1; % need memory trace to work\n",
    "R=zeros(1,nTimes);  % reward vector\n",
    "R(rTime)=1; % binary status: 0=None; 1=Yes\n",
    "V=zeros(1,nTimes); % value function V(X(t))\n",
    "TDe=zeros(1,nTimes); % define prediction unit vector\n",
    "Tcourse=zeros(nTrials,nTimes); % define time course hold array\n",
    "\n",
    "for c=1:nTrials, % for each learning trial\n",
    "    if c==nTrials/2, R(rTime)=0; end % remove reward for later trials\n",
    "    for t=2:nTimes\n",
    "        TDe(t)=R(t)+r*V(t)-V(t-1); % TD error\n",
    "        V(t-1)=V(t-1)+a*X(t-1)*TDe(t); % TD learning: V(X(t))\n",
    "        %V(t-1)=V(t-1)+a*TDe(t); % TD learning: V(t)\n",
    "    end\n",
    "    T_V(c,:)=V;%TDe; % save learned V(t) across trials\n",
    "    T_TDe(c,:)=TDe; % save learned TDe(t) across trials\n",
    "end % end learning trial loop\n",
    "\n",
    "% plot out results\n",
    "figure(1);\n",
    "mesh(T_V);view([0,90]);\n",
    "set(gca,'linewidth',2);\n",
    "set(gca,'fontsize',20,'fontweight','bold');\n",
    "xlabel('Time Step');ylabel('trial');\n",
    "zlabel('Anticipated Reward: V(t,x)');\n",
    "title('Anticipated Reward: V(t,x)');\n",
    "figure(2);\n",
    "mesh(T_TDe);view([0,90]);\n",
    "set(gca,'linewidth',2);\n",
    "set(gca,'fontsize',20,'fontweight','bold');\n",
    "xlabel('Time Step');ylabel('Trial')\n",
    "zlabel('TD error: TDe(t)');\n",
    "title('TD error: TDe(t)');"
   ]
  },
  {
   "cell_type": "markdown",
   "metadata": {},
   "source": [
    "### 4.2 Q Learning (Not implemented yet)"
   ]
  },
  {
   "cell_type": "code",
   "execution_count": null,
   "metadata": {
    "collapsed": true
   },
   "outputs": [],
   "source": []
  }
 ],
 "metadata": {
  "kernelspec": {
   "display_name": "Python 3",
   "language": "python",
   "name": "python3"
  },
  "language_info": {
   "codemirror_mode": {
    "name": "ipython",
    "version": 3
   },
   "file_extension": ".py",
   "mimetype": "text/x-python",
   "name": "python",
   "nbconvert_exporter": "python",
   "pygments_lexer": "ipython3",
   "version": "3.6.3"
  }
 },
 "nbformat": 4,
 "nbformat_minor": 2
}
