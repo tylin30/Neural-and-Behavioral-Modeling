{
 "cells": [
  {
   "cell_type": "markdown",
   "metadata": {},
   "source": [
    "# Neural & Behavioral Modeling - Week 10 (Exercises)\n",
    "by Ting-Yu, Lin (tylin.amice@gmail.om)"
   ]
  },
  {
   "cell_type": "code",
   "execution_count": 8,
   "metadata": {
    "collapsed": true
   },
   "outputs": [],
   "source": [
    "%config IPCompleter.greedy=True \n",
    "%matplotlib inline\n",
    "from numpy import *\n",
    "from matplotlib.pyplot import *\n",
    "from IPython.display import *"
   ]
  },
  {
   "cell_type": "markdown",
   "metadata": {},
   "source": [
    "## 1 A Two-layered Linear Network as a Regression Model (7 points)\n",
    "Data fitting of the following network is poor. Please check if adding bias terms or chaging network hyperparameters (e.g., learning rate, amount of training, etc.) help. If not, please explain why the fitting is poor given that the network/regression model has sufficient degrees of freedom (i.e., network weights or regression coefficients) to overfit such a small data set."
   ]
  },
  {
   "cell_type": "code",
   "execution_count": 30,
   "metadata": {},
   "outputs": [
    {
     "name": "stdout",
     "output_type": "stream",
     "text": [
      "Ideal results:\n",
      "[[1 0]\n",
      " [1 0]\n",
      " [1 0]\n",
      " [0 1]\n",
      " [0 1]\n",
      " [0 1]]\n",
      "Reality:\n",
      "[[ 0.679 -0.   ]\n",
      " [ 0.643  0.   ]\n",
      " [ 1.321  0.   ]\n",
      " [-0.     0.643]\n",
      " [ 0.     0.643]\n",
      " [ 0.     1.286]]\n",
      "W: [[ 0.679  0.679 -0.     0.   ]\n",
      " [-0.     0.     0.643  0.643]]\n"
     ]
    },
    {
     "data": {
      "image/png": "[encoded data removed]",
      "text/plain": [
       "<matplotlib.figure.Figure at 0x11d756e80>"
      ]
     },
     "metadata": {},
     "output_type": "display_data"
    }
   ],
   "source": [
    "# Here we train a two-layered network of units \n",
    "# with a linear activation function f(x)=x\n",
    "# to associate patterns using the delta rule dW=(t-y)*x\n",
    "\n",
    "set_printoptions(precision=3,suppress=True)\n",
    "\n",
    "X=array([[1,0,0,0],[0,1,0,0],[1,1,0,0],[0,0,1,0],[0,0,0,1],[0,0,1,1]])\n",
    "#X=array([[1,0,0,0,1],[0,1,0,0,1],[1,1,0,0,1],[0,0,1,0,1],[0,0,0,1,1],[0,0,1,1,1]]) #bias\n",
    "#X=array([[1,0,0,0],[1,0,0,0],[1,0,0,0],[1,0,0,0],[1,0,0,0],[1,0,0,0]])\n",
    "Y=array([[1,0],[1,0],[1,0],[0,1],[0,1],[0,1]])\n",
    "[Np,Nx]=X.shape; # find numbers of patterns and input dimensions\n",
    "[Np,Ny]=Y.shape; # find numbers of patterns and output dimensions\n",
    "W=random.rand(Ny,Nx); # set initially random connectivity matrix\n",
    "\n",
    "eta=.1; # set the learning rate \n",
    "tol=1e-2; # set the tolerance/stopping criterion; try 0.01\n",
    "nIts=50000; # set the maximum number of allowed iterations\n",
    "totErr=10; # set the maximum training error to an initially high value\n",
    "totErr_hist=[] # history of totall error\n",
    "\n",
    "for c in range(nIts): # for each learning iteration\n",
    "    p=mod(c,Np) # sequential presentation of the training samples\n",
    "    #p=random.randint(Np); # choose a traing pattern at random\n",
    "    \n",
    "    # Forward propagation:\n",
    "    y=W.dot(X[p])\n",
    "    \n",
    "    # Backward propagation:\n",
    "    deltaW=eta*outer(Y[p].T-y,X[p]) # delta learning\n",
    "    W=W+deltaW;  # apply the weight update\n",
    "    \n",
    "    # Checking if done:\n",
    "    if(mod(c,10*Np)==0): # after 10 updates check total errors\n",
    "        predY=W.dot(X.T) # testing ALL the training samples\n",
    "        totErr=sum((Y.T-predY)**2) # sum of squared errors for all samples\n",
    "        totErr_hist.append(totErr)\n",
    "    if(totErr<tol):\n",
    "        print(\"break\")\n",
    "        break # break if max error is below tolerance\n",
    "        \n",
    "plot(totErr_hist);\n",
    "title(str(c)+':'+str(totErr));\n",
    "print('Ideal results:')\n",
    "print(Y)\n",
    "print('Reality:')\n",
    "print(predY.T) # predicted Y\n",
    "print(\"W:\",W)"
   ]
  },
  {
   "cell_type": "markdown",
   "metadata": {},
   "source": [
    "###  Write your discussions here, if any"
   ]
  },
  {
   "cell_type": "markdown",
   "metadata": {},
   "source": [
    "無論是加入bias或是調整各種parameters都沒有辦法在在許可的錯誤範圍內達到自己的預期.\n",
    "\n",
    "進一步看data, 會發現其實以x的前兩項為一組和後兩項為一組, 分別做OR Gate即能達到perfectly match的結果. 且data性質看起來應該是類別型資料.\n",
    "\n",
    "以目前Two-layered Linear Network的架構下要成功達到想要的結果, 即以相加的方式($y_j=\\sum_{i=1}^{n} (x_i*w_ij)\n",
    "$)得到可接受的Predicted$y_j$幾乎是不可行(無法達到OR Gate的效果). 故這種情況一種可行的解法是改變架構, 在$y_j$上放一個activation function, 挑選一個合適的function讓結果能極端地跑出1 or 0."
   ]
  },
  {
   "cell_type": "markdown",
   "metadata": {},
   "source": [
    "## 2 PyTorch (3 points)\n",
    "Read <a href=\"http://noahsnail.com/2017/09/18/2017-9-18-PyTorch%E5%9F%BA%E6%9C%AC%E7%94%A8%E6%B3%95(%E4%B8%80)%E2%80%94%E2%80%94Numpy%EF%BC%8CTorch%E5%AF%B9%E6%AF%94/\">this tutorial</a> first and port the following Instar Learning from NumPy to PyTorch:"
   ]
  },
  {
   "cell_type": "code",
   "execution_count": 12,
   "metadata": {},
   "outputs": [
    {
     "name": "stdout",
     "output_type": "stream",
     "text": [
      "[ 0.694  0.054  0.342] 0.256651050133\n",
      "[ 0.542  0.117  0.383] 0.280609156145\n",
      "[ 0.418  0.169  0.415] 0.300080862284\n",
      "[ 0.322  0.208  0.441] 0.315060640174\n",
      "[ 0.252  0.237  0.459] 0.326068657248\n",
      "[ 0.203  0.258  0.473] 0.333871918045\n",
      "[ 0.168  0.272  0.482] 0.339256631702\n",
      "[ 0.145  0.281  0.488] 0.342901390644\n",
      "[ 0.13   0.288  0.492] 0.345335513664\n",
      "[ 0.119  0.292  0.495] 0.346946326449\n"
     ]
    }
   ],
   "source": [
    "# Instar learning:\n",
    "x=array([0.1,0.3,0.5])\n",
    "W1=random.rand(3); W2=random.rand(3)\n",
    "y=dot(W1,x) # Bottom-up F1→F2\n",
    "for i in range(10): # trials \n",
    "    y=dot(W1,x) # Bottom-up F1→F2\n",
    "    print(W1,y)\n",
    "    W1+=y*(x-W1) # Postsynaptically gated InStar "
   ]
  },
  {
   "cell_type": "code",
   "execution_count": 13,
   "metadata": {},
   "outputs": [],
   "source": [
    "### Write your PyTorch codes here\n",
    "import torch as t"
   ]
  },
  {
   "cell_type": "code",
   "execution_count": 33,
   "metadata": {},
   "outputs": [
    {
     "name": "stdout",
     "output_type": "stream",
     "text": [
      "tensor([ 0.4831,  0.8740,  0.0945]) tensor(1.00000e-19 *\n",
      "       -1.0842)\n",
      "tensor([ 0.4831,  0.8740,  0.0945]) tensor(1.00000e-19 *\n",
      "       -1.0842)\n",
      "tensor([ 0.4831,  0.8740,  0.0945]) tensor(1.00000e-19 *\n",
      "       -1.0842)\n",
      "tensor([ 0.4831,  0.8740,  0.0945]) tensor(1.00000e-19 *\n",
      "       -1.0842)\n",
      "tensor([ 0.4831,  0.8740,  0.0945]) tensor(1.00000e-19 *\n",
      "       -1.0842)\n",
      "tensor([ 0.4831,  0.8740,  0.0945]) tensor(1.00000e-19 *\n",
      "       -1.0842)\n",
      "tensor([ 0.4831,  0.8740,  0.0945]) tensor(1.00000e-19 *\n",
      "       -1.0842)\n",
      "tensor([ 0.4831,  0.8740,  0.0945]) tensor(1.00000e-19 *\n",
      "       -1.0842)\n",
      "tensor([ 0.4831,  0.8740,  0.0945]) tensor(1.00000e-19 *\n",
      "       -1.0842)\n",
      "tensor([ 0.4831,  0.8740,  0.0945]) tensor(1.00000e-19 *\n",
      "       -1.0842)\n"
     ]
    }
   ],
   "source": [
    "t_x = t.tensor([0.1,0.3,0.5])\n",
    "t_W1 = t.rand(3); t_W2 = t.rand(3)\n",
    "t_y = t.dot(t_W1, t_x)\n",
    "#t_y = (t_W1*t_x).sum()\n",
    "for i in range(10):\n",
    "    #t_y = (t_W1*t_x).sum()\n",
    "    t_y = t.dot(t_W1,t_x)\n",
    "    print(t_W1,t_y)\n",
    "    t_W1+=t_y*(t_x-t_W1)"
   ]
  }
 ],
 "metadata": {
  "kernelspec": {
   "display_name": "Python 3",
   "language": "python",
   "name": "python3"
  },
  "language_info": {
   "codemirror_mode": {
    "name": "ipython",
    "version": 3
   },
   "file_extension": ".py",
   "mimetype": "text/x-python",
   "name": "python",
   "nbconvert_exporter": "python",
   "pygments_lexer": "ipython3",
   "version": "3.6.3"
  }
 },
 "nbformat": 4,
 "nbformat_minor": 2
}
