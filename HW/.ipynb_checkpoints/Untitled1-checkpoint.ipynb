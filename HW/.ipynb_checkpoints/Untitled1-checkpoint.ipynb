{
 "cells": [
  {
   "cell_type": "code",
   "execution_count": 3,
   "metadata": {
    "collapsed": true
   },
   "outputs": [],
   "source": [
    "import torch as t"
   ]
  },
  {
   "cell_type": "code",
   "execution_count": 4,
   "metadata": {},
   "outputs": [
    {
     "name": "stdout",
     "output_type": "stream",
     "text": [
      "tensor([ 0.6046,  0.1940,  0.9451]) tensor(0.)\n",
      "tensor([ 0.6046,  0.1940,  0.9451]) tensor(0.)\n",
      "tensor([ 0.6046,  0.1940,  0.9451]) tensor(0.)\n",
      "tensor([ 0.6046,  0.1940,  0.9451]) tensor(0.)\n",
      "tensor([ 0.6046,  0.1940,  0.9451]) tensor(0.)\n",
      "tensor([ 0.6046,  0.1940,  0.9451]) tensor(0.)\n",
      "tensor([ 0.6046,  0.1940,  0.9451]) tensor(0.)\n",
      "tensor([ 0.6046,  0.1940,  0.9451]) tensor(0.)\n",
      "tensor([ 0.6046,  0.1940,  0.9451]) tensor(0.)\n",
      "tensor([ 0.6046,  0.1940,  0.9451]) tensor(0.)\n"
     ]
    }
   ],
   "source": [
    "t_x = t.tensor([0.1,0.3,0.5])\n",
    "t_W1 = t.rand(3); t_W2 = t.rand(3)\n",
    "t_y = t.dot(t_W1, t_x)\n",
    "#t_y = (t_W1*t_x).sum()\n",
    "for i in range(10):\n",
    "    #t_y = (t_W1*t_x).sum()\n",
    "    t_y = t.dot(t_W1,t_x)\n",
    "    print(t_W1,t_y)\n",
    "    t_W1+=t_y*(t_x-t_W1)"
   ]
  },
  {
   "cell_type": "code",
   "execution_count": null,
   "metadata": {
    "collapsed": true
   },
   "outputs": [],
   "source": []
  }
 ],
 "metadata": {
  "kernelspec": {
   "display_name": "Python 3",
   "language": "python",
   "name": "python3"
  },
  "language_info": {
   "codemirror_mode": {
    "name": "ipython",
    "version": 3
   },
   "file_extension": ".py",
   "mimetype": "text/x-python",
   "name": "python",
   "nbconvert_exporter": "python",
   "pygments_lexer": "ipython3",
   "version": "3.6.3"
  }
 },
 "nbformat": 4,
 "nbformat_minor": 2
}
