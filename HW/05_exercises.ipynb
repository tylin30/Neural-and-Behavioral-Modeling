{
 "cells": [
  {
   "cell_type": "markdown",
   "metadata": {},
   "source": [
    "# Neural & Behavioral Modeling - Week 5 (Exercises)\n",
    "by Your Name (Your Email)"
   ]
  },
  {
   "cell_type": "code",
   "execution_count": 4,
   "metadata": {
    "collapsed": true
   },
   "outputs": [],
   "source": [
    "%config IPCompleter.greedy=True \n",
    "%matplotlib inline\n",
    "from numpy import *\n",
    "from matplotlib.pyplot import *\n",
    "from IPython.display import *"
   ]
  },
  {
   "cell_type": "markdown",
   "metadata": {},
   "source": [
    "## 1 Drifit Diffusion Model (5 points)\n",
    "\n",
    "Use whatever analytical methods to check if Tren's super EZ implementation(s) of the drift diffusion model produce exGaussian data, especially the exponential long tail. Remember to play around with different model parameters to see how they affect simulation results."
   ]
  },
  {
   "cell_type": "code",
   "execution_count": null,
   "metadata": {
    "collapsed": true
   },
   "outputs": [],
   "source": [
    "# Tren's implementation\n",
    "\n",
    "from numpy import *\n",
    "\n",
    "mu,sigma=0.2,2 # Diffusion type1\n",
    "p=0.4 # Diffusion type2\n",
    "Yend=20 # Threshold for response\n",
    "Ntrial=1000\n",
    "\n",
    "RTs=zeros(Ntrial)\n",
    "for i in range(Ntrial):\n",
    "    Y=0 # initial drift position\n",
    "    Ys=[] # drift history\n",
    "    RT=0 # Reset watch\n",
    "    while(Y<Yend):\n",
    "        dY=mu+random.normal(mu,sigma); # type1\n",
    "        #dY=float((random.rand(1)-p)>0); # type2\n",
    "        Y=Y+dY\n",
    "        Ys.append(Y); # Diffusion history in each trial\n",
    "        RT=RT+1 # clock is running\n",
    "    RTs[i]=RT;\n",
    "subplot(1,2,1);plot(Ys) # plot only the last trial to see the diffusion process\n",
    "subplot(1,2,2);hist(RTs);"
   ]
  },
  {
   "cell_type": "markdown",
   "metadata": {
    "collapsed": true
   },
   "source": [
    "### Write your analysis or code here"
   ]
  },
  {
   "cell_type": "markdown",
   "metadata": {},
   "source": [
    "## 2 Choose ONE of the following tasks (5 points):\n",
    "\n",
    "(1) Port EZdata.m from Matlab to Python\n",
    "\n",
    "(2) Port dataEz.m from Matlab to Python\n",
    "\n",
    "(3) Provide an intuitive explanation about the form of exGuassian's probability density function (PDF).\n",
    "\n",
    "<font color=\"grey\">(Mathemaitcal derivation of that PDF may help you to figure out what's going on but please try to explain the whole thing in plain English.)</font>"
   ]
  },
  {
   "cell_type": "code",
   "execution_count": null,
   "metadata": {
    "collapsed": true
   },
   "outputs": [],
   "source": []
  }
 ],
 "metadata": {
  "kernelspec": {
   "display_name": "Python 3",
   "language": "python",
   "name": "python3"
  },
  "language_info": {
   "codemirror_mode": {
    "name": "ipython",
    "version": 3
   },
   "file_extension": ".py",
   "mimetype": "text/x-python",
   "name": "python",
   "nbconvert_exporter": "python",
   "pygments_lexer": "ipython3",
   "version": "3.6.3"
  }
 },
 "nbformat": 4,
 "nbformat_minor": 2
}
