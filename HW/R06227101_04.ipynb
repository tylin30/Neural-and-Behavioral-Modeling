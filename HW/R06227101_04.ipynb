{
 "cells": [
  {
   "cell_type": "markdown",
   "metadata": {},
   "source": [
    "# Neural & Behavioral Modeling - Week 4 (Exercises)\n",
    "by Your Name (Your Email)"
   ]
  },
  {
   "cell_type": "code",
   "execution_count": 1,
   "metadata": {
    "collapsed": true
   },
   "outputs": [],
   "source": [
    "%config IPCompleter.greedy=True \n",
    "%matplotlib inline\n",
    "from numpy import *\n",
    "from matplotlib.pyplot import *\n",
    "from matplotlib.mlab import PCA\n",
    "from IPython.display import *\n",
    "from random import randint"
   ]
  },
  {
   "cell_type": "markdown",
   "metadata": {},
   "source": [
    "## 1 Replicate exisiting findings/models \n",
    "Based on your personal interest, please choose and replicate ONE of the following studies:\n",
    "\n",
    "1. <a href=\"http://ccl.northwestern.edu/netlogo/models/FlockingVeeFormations\">Flocking Vee Formations</a> in NetLogo's [Sample Models::Biology] \n",
    "\n",
    "2. <a href=\"http://ccl.northwestern.edu/netlogo/models/WolfSheepPredation\">Wolf-Sheep Predation</a> in NetLogo's [Sample Models::Biology] \n",
    "\n",
    "3. <a href=\"https://www.wetalk.tw/thread-36278-1-1.html\">MIT Matching Game</a>\n",
    "\n",
    "4. Gray, K., Rand, D. G., Ert, E., Lewis, K., Hershman, S., & Norton, M. I. (2014). <a href=\"http://www.mpmlab.org/groups/\">The emergence of “us and them” in 80 lines of code: Modeling group genesis in homogeneous populations</a>. Psychological Science, 25(4), 982-990.\n",
    "\n",
    "5. Luhmann, C. C., & Rajaram, S. (2015). <a href=\"http://journals.sagepub.com/doi/abs/10.1177/0956797615605798\">Memory transmission in small groups and large networks: An agent-based model</a>. Psychological Science, 26(12), 1909-1917."
   ]
  },
  {
   "cell_type": "markdown",
   "metadata": {},
   "source": [
    "#### (4) Gray, K., Rand, D. G., Ert, E., Lewis, K., Hershman, S., & Norton, M. I. (2014). The emergence of “us and them” in 80 lines of code: Modeling group genesis in homogeneous populations. Psychological Science, 25(4), 982-990."
   ]
  },
  {
   "cell_type": "code",
   "execution_count": null,
   "metadata": {},
   "outputs": [
    {
     "data": {
      "image/png": "[encoded data removed]",
      "text/plain": [
       "<matplotlib.figure.Figure at 0x117afb860>"
      ]
     },
     "metadata": {},
     "output_type": "display_data"
    }
   ],
   "source": [
    "# Model parameters:\n",
    "Npeople=12#how many people\n",
    "r = 3 #Reciprocity (r > 1)\n",
    "t = 2 #Transitivity (t > 1) #(t < r)\n",
    "A = 0 #cooperation adjustion\n",
    "setpoint = 0.5\n",
    "Nrounds = 10000\n",
    "#self-other decision\n",
    "coco = 1\n",
    "code = -3\n",
    "dede = -1\n",
    "deco = 3\n",
    "random.seed(1)\n",
    "\n",
    "#initialization\n",
    "Closeness = np.full((Npeople, Npeople), setpoint)#matric of closeness (symmetry) (range:0-1; initial=0.5)\n",
    "np.fill_diagonal(Closeness,0)\n",
    "\n",
    "Pay = np.empty(Npeople)\n",
    "Pay.fill(0)\n",
    "\n",
    "#defined function \n",
    "def plot_pca(data):\n",
    "    names = range(1,Npeople+1)\n",
    "#    clf()\n",
    "    matplotlib.pyplot.scatter(data.Y[:,0], data.Y[:,1], c='g', alpha=0.5)\n",
    "    for label, x, y in zip(names, data.Y[:,0], data.Y[:,1]):\n",
    "        matplotlib.pyplot.annotate( label, xy=(x, y), xytext=(-5, 5), textcoords='offset points', ha='right', va='bottom' )\n",
    "    clear_output(wait=True)\n",
    "    matplotlib.pyplot.show()\n",
    "    \n",
    "    \n",
    "#game start\n",
    "for k in range(Nrounds):\n",
    "    #print(\"No.\",k)\n",
    "    #random select two players\n",
    "    n = random.randint(0, Npeople)\n",
    "    m = random.randint(0, Npeople-1)\n",
    "    \n",
    "    if m >= n: #aviod same player\n",
    "        m+=1\n",
    "    \n",
    "    CloseTemp = Closeness[n,m]\n",
    "    \n",
    "    #player make decision\n",
    "    if CloseTemp > random.random() - A:\n",
    "        player_n_decision = 1\n",
    "    else:\n",
    "        player_n_decision = 0\n",
    "        \n",
    "    if CloseTemp > random.random() - A:\n",
    "        player_m_decision = 1\n",
    "    else:\n",
    "        player_m_decision = 0\n",
    "    \n",
    "    \n",
    "    #(2)pay for their decision & (3)adjust closeness by Reciprocity & (4)Transitivity \n",
    "    if player_n_decision == 1 and player_m_decision == 1:\n",
    "        Pay[n] = Pay[n] + coco\n",
    "        Pay[m] = Pay[m] + coco\n",
    "        #print(Closeness[n,m])\n",
    "        Closeness[n,m] = 1 - (1-Closeness[n,m])/r\n",
    "        Closeness[m,n] = Closeness[n,m]\n",
    "        for g in range(Npeople):\n",
    "            if g != n and g != m:\n",
    "                if abs(Closeness[n,g] - setpoint) > abs(Closeness[m,g] - setpoint): #playern cares more?\n",
    "                    if Closeness[n,g] > setpoint: #like g\n",
    "                        Closeness[m,g] = 1 - (1-Closeness[m,g])/t\n",
    "                        Closeness[g,m] = Closeness[m,g]\n",
    "                    elif Closeness[n,g] < setpoint: #hate g\n",
    "                        Closeness[m,g] = Closeness[m,g]/t\n",
    "                        Closeness[g,m] = Closeness[m,g]\n",
    "                elif abs(Closeness[n,g] - setpoint) < abs(Closeness[m,g] - setpoint): #playerm cares more?\n",
    "                    if Closeness[m,g] > setpoint: #like g\n",
    "                        Closeness[n,g] = 1 - (1-Closeness[n,g])/t\n",
    "                        Closeness[g,n] = Closeness[n,g]\n",
    "                    elif Closeness[m,g] < setpoint: #hate g\n",
    "                        Closeness[n,g] = Closeness[n,g]/t        \n",
    "    elif player_n_decision == 0 and player_m_decision == 1:\n",
    "        Pay[n] = Pay[n] + deco\n",
    "        Pay[m] = Pay[m] + code\n",
    "    elif player_n_decision == 1 and player_m_decision == 0:\n",
    "        Pay[n] = Pay[n] + code\n",
    "        Pay[m] = Pay[m] + deco \n",
    "    else:\n",
    "        Pay[n] = Pay[n] + dede\n",
    "        Pay[m] = Pay[m] + dede\n",
    "\n",
    "        Closeness[n,m] = Closeness[n,m]/r\n",
    "        Closeness[m,n] = Closeness[n,m]\n",
    " \n",
    "    results = PCA(Closeness)\n",
    "    plot_pca(results)\n",
    "    \n",
    "'''results = PCA(Closeness)\n",
    "results = results[:,:-1]\n",
    "plot_pca(results)\n",
    "'''\n",
    "results = PCA(Closeness)\n",
    "\n",
    "ClusterMatrix = Closeness.copy()\n",
    "for j in range(Npeople):\n",
    "    for h in range(Npeople):\n",
    "        ClusterMatrix[j,h] = ClusterMatrix[j,h] + ((random.random()-0.5)/1000)\n",
    "ClusterMatrix = matrix.round(ClusterMatrix)\n",
    "Numerator = np.trace(matmul(matmul(ClusterMatrix,ClusterMatrix),ClusterMatrix))\n",
    "Denominator = sum(sum(matmul(ClusterMatrix,ClusterMatrix)))-np.trace(matmul(ClusterMatrix,ClusterMatrix))\n",
    "\n",
    "if Denominator == 0:\n",
    "    ClusterCoeff = 0\n",
    "else:\n",
    "    ClusterCoeff = Numerator/Denominator\n",
    "\n",
    "\n",
    "print(ClusterCoeff)\n",
    "    "
   ]
  }
 ],
 "metadata": {
  "kernelspec": {
   "display_name": "Python 3",
   "language": "python",
   "name": "python3"
  },
  "language_info": {
   "codemirror_mode": {
    "name": "ipython",
    "version": 3
   },
   "file_extension": ".py",
   "mimetype": "text/x-python",
   "name": "python",
   "nbconvert_exporter": "python",
   "pygments_lexer": "ipython3",
   "version": "3.6.3"
  }
 },
 "nbformat": 4,
 "nbformat_minor": 2
}
