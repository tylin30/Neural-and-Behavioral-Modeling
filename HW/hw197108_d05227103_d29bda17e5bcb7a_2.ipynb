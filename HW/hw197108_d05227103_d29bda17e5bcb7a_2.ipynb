{
 "cells": [
  {
   "cell_type": "markdown",
   "metadata": {},
   "source": [
    "# Neural & Behavioral Modeling - Week 5 (Exercises)\n",
    "by Your Name (Your Email)"
   ]
  },
  {
   "cell_type": "code",
   "execution_count": 26,
   "metadata": {},
   "outputs": [],
   "source": [
    "%config IPCompleter.greedy=True \n",
    "%matplotlib inline\n",
    "from numpy import *\n",
    "from matplotlib.pyplot import *\n",
    "from IPython.display import *"
   ]
  },
  {
   "cell_type": "markdown",
   "metadata": {},
   "source": [
    "## 1 Drifit Diffusion Model (5 points)\n",
    "\n",
    "Use whatever analytical methods to check if Tren's super EZ implementation(s) of the drift diffusion model produce exGaussian data, especially the exponential long tail. Remember to play around with different model parameters to see how they affect simulation results."
   ]
  },
  {
   "cell_type": "code",
   "execution_count": 2,
   "metadata": {},
   "outputs": [
    {
     "data": {
      "image/png": "[encoded data removed]",
      "text/plain": [
       "<matplotlib.figure.Figure at 0x7fc3ae73db38>"
      ]
     },
     "metadata": {},
     "output_type": "display_data"
    }
   ],
   "source": [
    "# Tren's implementation\n",
    "\n",
    "from numpy import *\n",
    "\n",
    "mu,sigma=0.2,2 # Diffusion type1\n",
    "p=0.4 # Diffusion type2\n",
    "Yend=20 # Threshold for response\n",
    "Ntrial=1000\n",
    "\n",
    "RTs=zeros(Ntrial)\n",
    "for i in range(Ntrial):\n",
    "    Y=0 # initial drift position\n",
    "    Ys=[] # drift history\n",
    "    RT=0 # Reset watch\n",
    "    while(Y<Yend):\n",
    "        dY=mu+random.normal(mu,sigma); # type1\n",
    "        #dY=float((random.rand(1)-p)>0); # type2\n",
    "        Y=Y+dY\n",
    "        Ys.append(Y); # Diffusion history in each trial\n",
    "        RT=RT+1 # clock is running\n",
    "    RTs[i]=RT;\n",
    "subplot(1,2,1);plot(Ys) # plot only the last trial to see the diffusion process\n",
    "subplot(1,2,2);hist(RTs,100);"
   ]
  },
  {
   "cell_type": "markdown",
   "metadata": {
    "collapsed": true
   },
   "source": [
    "### Write your analysis or code here"
   ]
  },
  {
   "cell_type": "code",
   "execution_count": 10,
   "metadata": {},
   "outputs": [
    {
     "data": {
      "text/plain": [
       "KstestResult(statistic=0.98568024273947696, pvalue=0.0)"
      ]
     },
     "execution_count": 10,
     "metadata": {},
     "output_type": "execute_result"
    }
   ],
   "source": [
    "# Model parameters:\n",
    "mu,sigma=2,2\n",
    "lmbd=5\n",
    "x=arange(0,10,0.1)\n",
    "\n",
    "from scipy.special import erfc\n",
    "from scipy.stats import kstest\n",
    "\n",
    "def cdfexGauss(mu,sigma,lamda,x):\n",
    "    exGauss=lamda/2*exp(lamda/2*(2*mu+lamda*sigma**2-2*x))* \\\n",
    "    erfc((mu+lamda*sigma**2-x)/(sqrt(2)*sigma))\n",
    "    cdfexGauss=cumsum(exGauss)\n",
    "    return cdfexGauss\n",
    "    \n",
    "args=[mu,sigma,lmbd]\n",
    "kstest(RTs,lambda x: cdfexGauss(mu,sigma,lmbd,x))\n",
    "# Tren's super EZ implementation(s) of the drift diffusion model produce exGaussian data"
   ]
  },
  {
   "cell_type": "markdown",
   "metadata": {},
   "source": [
    "## 2 Choose ONE of the following tasks (5 points):\n",
    "\n",
    "(1) Port EZdata.m from Matlab to Python\n",
    "\n",
    "(2) Port dataEz.m from Matlab to Python\n",
    "\n",
    "(3) Provide an intuitive explanation about the form of exGuassian's probability density function (PDF).\n",
    "\n",
    "<font color=\"grey\">(Mathemaitcal derivation of that PDF may help you to figure out what's going on but please try to explain the whole thing in plain English.)</font>"
   ]
  },
  {
   "cell_type": "code",
   "execution_count": 196,
   "metadata": {},
   "outputs": [
    {
     "name": "stdout",
     "output_type": "stream",
     "text": [
      "0.8021838885585817 [ 0.11203504] [ 0.72305744]\n"
     ]
    }
   ],
   "source": [
    "import math\n",
    "def isempty(x):\n",
    "    a=1 if x==[] else 0\n",
    "    return a\n",
    "# function [Pc,VRT,MRT] = EZdata(v,a,Ter,s)\n",
    "def EZdata(v,a,Ter,s=.1):\n",
    "# %-- The scaling parameter s has a ubiquitous default of 0.1\n",
    "# if (nargin<4) ; s = 0.1 ; end\n",
    "    s2=s**2\n",
    "# %-- Probability correct\n",
    "# y = -v .* a ./ s2 ;\n",
    "    y=-v*a/s2\n",
    "# Pc = 1 ./ (1+exp(y)) ;\n",
    "    Pc=1/(1+math.exp(y))\n",
    "# %-- Postpone special case v=0\n",
    "# idx = find(v~=0) ;\n",
    "    v=[v]\n",
    "    v=array(v)\n",
    "    idx=nonzero(v)#find(v!=0)\n",
    "# vi = v(idx) ;\n",
    "    vi=v[idx]\n",
    "# yi = y(idx) ;\n",
    "    y=[y]\n",
    "    y=array(y)\n",
    "    yi=y[idx]\n",
    "# if (numel(a)==1) ; ai = a ; else ai = a(idx) ; end    % allow for scalar a\n",
    "    ai=a if size(a)==1 else a[idx]\n",
    "# %-- Variance of response times -- Equation 6 in Wagenmakers et al\n",
    "# exp_yi = exp(yi) ;\n",
    "    exp_yi=math.exp(yi)\n",
    "# VRTi = (2.*yi.*exp_yi - exp(2.*yi) + 1) ./ (exp_yi+1).^2 ;\n",
    "    VRTi=(2*yi*exp_yi-math.exp(2*yi)+1)/(exp_yi+1)**2\n",
    "# VRTi = VRTi .* (ai.*s2./(2.*vi.^3)) ;\n",
    "    VRTi=VRTi*(ai*s2/(2*vi**3))\n",
    "# VRT = NaN(size(v)) ;\n",
    "    VRT=zeros(len(v))\n",
    "    for i in range(len(v)):\n",
    "        VRT[i]=nan\n",
    "# VRT(idx) = VRTi ;\n",
    "    VRT[idx]=VRTi\n",
    "# %-- Mean decision time -- Equation 9\n",
    "# MDTi = (1-exp_yi)./(1+exp_yi) ;\n",
    "    MDTi=(1-exp_yi)/(1+exp_yi)\n",
    "# MDTi = MDTi .* (ai./(2.*vi)) ;\n",
    "    MDTi=MDTi*(ai/(2*vi))\n",
    "# MDT = NaN(size(v)) ;\n",
    "    MDT=zeros(len(v))\n",
    "    for i in range(len(v)):\n",
    "        MDT[i]=nan\n",
    "# MDT(idx) = MDTi ;\n",
    "    MDT[idx]=MDTi\n",
    "# %-- Now handle special case v=0\n",
    "# idx = find(v==0) ;\n",
    "    idx=nonzero(v==0)#idx=find(v==0)\n",
    "# if (~isempty(idx))\n",
    "    if(not isempty(idx)):\n",
    "#     if (numel(a)==1) ; ai = a ; else ai = a(idx) ; end\n",
    "        ai=a if size(a)==1 else a[idx]\n",
    "#         %- Variance of response times\n",
    "#     VRTi = ai.^4 ./ (24*s2.^2);     % Eq. on top of p. 9, right\n",
    "        VRTi=ai**4/(24*s2**2)\n",
    "#     VRT(idx) = VRTi ;\n",
    "        VRT[idx]=VRTi\n",
    "#     %- Mean decision time\n",
    "#     MDTi = ai.^2 ./ (4*s2) ;\n",
    "        MDTi=ai**2/(4*s2)\n",
    "#     MDT(idx) = MDTi ;\n",
    "        MDT[idx]=MDTi;\n",
    "# end\n",
    "# %-- Observable Mean RT = Mean decision time + Ter\n",
    "# MRT = MDT + Ter ;   % Equation 8\n",
    "    MRT=MDT+Ter\n",
    "    return Pc,VRT,MRT\n",
    "# %---   Return Pc, VRT, MRT\n",
    "# %%%%%% End of file EZdata.m\n",
    "Pc,VRT,MRT=EZdata(.1,.14,.300)\n",
    "print(Pc,VRT,MRT)"
   ]
  }
 ],
 "metadata": {
  "kernelspec": {
   "display_name": "Python 3",
   "language": "python",
   "name": "python3"
  },
  "language_info": {
   "codemirror_mode": {
    "name": "ipython",
    "version": 3
   },
   "file_extension": ".py",
   "mimetype": "text/x-python",
   "name": "python",
   "nbconvert_exporter": "python",
   "pygments_lexer": "ipython3",
   "version": "3.5.4"
  }
 },
 "nbformat": 4,
 "nbformat_minor": 2
}
