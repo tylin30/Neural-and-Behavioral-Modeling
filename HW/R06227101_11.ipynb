{
 "cells": [
  {
   "cell_type": "markdown",
   "metadata": {},
   "source": [
    "# Neural & Behavioral Modeling - Week 11 (Exercises)\n",
    "by Ting-Yu, Lin (tylin.amice@gmail.com)"
   ]
  },
  {
   "cell_type": "code",
   "execution_count": 1,
   "metadata": {},
   "outputs": [
    {
     "name": "stdout",
     "output_type": "stream",
     "text": [
      "Solving environment: done\n",
      "\n",
      "## Package Plan ##\n",
      "\n",
      "  environment location: /raid/opt/hpc/anaconda/python3\n",
      "\n",
      "  added / updated specs: \n",
      "    - pytorch-cpu\n",
      "    - torchvision-cpu\n",
      "\n",
      "\n",
      "The following packages will be downloaded:\n",
      "\n",
      "    package                    |            build\n",
      "    ---------------------------|-----------------\n",
      "    pytorch-cpu-0.4.0          |       py36_cpu_1        48.9 MB  pytorch\n",
      "    torchvision-cpu-0.2.1      |           py36_1         123 KB  pytorch\n",
      "    ------------------------------------------------------------\n",
      "                                           Total:        49.1 MB\n",
      "\n",
      "The following NEW packages will be INSTALLED:\n",
      "\n",
      "    pytorch-cpu:     0.4.0-py36_cpu_1 pytorch\n",
      "    torchvision-cpu: 0.2.1-py36_1     pytorch\n",
      "\n",
      "\n",
      "Downloading and Extracting Packages\n",
      "pytorch-cpu 0.4.0####################################################### | 100% \n",
      "torchvision-cpu 0.2.1################################################### | 100% \n",
      "Preparing transaction: done\n",
      "Verifying transaction: done\n",
      "Executing transaction: failed\n",
      "ERROR conda.core.link:_execute(502): An error occurred while installing package 'pytorch::pytorch-cpu-0.4.0-py36_cpu_1'.\n",
      "PermissionError(13, 'Permission denied')\n",
      "Attempting to roll back.\n",
      "\n",
      "Rolling back transaction: done\n",
      "\n",
      "PermissionError(13, 'Permission denied')\n",
      "\n",
      "\n"
     ]
    }
   ],
   "source": [
    "# Upgrade PyTorch to 0.4.0 if necessary:\n",
    "! conda install -y pytorch-cpu torchvision-cpu -c pytorch"
   ]
  },
  {
   "cell_type": "code",
   "execution_count": 120,
   "metadata": {},
   "outputs": [
    {
     "name": "stdout",
     "output_type": "stream",
     "text": [
      "Tue May 15 14:10:17 2018       \n",
      "+-----------------------------------------------------------------------------+\n",
      "| NVIDIA-SMI 384.111                Driver Version: 384.111                   |\n",
      "|-------------------------------+----------------------+----------------------+\n",
      "| GPU  Name        Persistence-M| Bus-Id        Disp.A | Volatile Uncorr. ECC |\n",
      "| Fan  Temp  Perf  Pwr:Usage/Cap|         Memory-Usage | GPU-Util  Compute M. |\n",
      "|===============================+======================+======================|\n",
      "|   0  GeForce GTX 108...  Off  | 00000000:02:00.0 Off |                  N/A |\n",
      "| 20%   43C    P8    20W / 250W |  10627MiB / 11172MiB |      0%      Default |\n",
      "+-------------------------------+----------------------+----------------------+\n",
      "|   1  GeForce GTX 108...  Off  | 00000000:03:00.0 Off |                  N/A |\n",
      "| 20%   34C    P8    17W / 250W |  10627MiB / 11172MiB |      0%      Default |\n",
      "+-------------------------------+----------------------+----------------------+\n",
      "|   2  TITAN V             Off  | 00000000:82:00.0 Off |                  N/A |\n",
      "| 28%   42C    P8    27W / 250W |  12056MiB / 12058MiB |      0%      Default |\n",
      "+-------------------------------+----------------------+----------------------+\n",
      "|   3  GeForce GTX 108...  Off  | 00000000:83:00.0 Off |                  N/A |\n",
      "| 20%   40C    P8    17W / 250W |  10627MiB / 11172MiB |      0%      Default |\n",
      "+-------------------------------+----------------------+----------------------+\n",
      "                                                                               \n",
      "+-----------------------------------------------------------------------------+\n",
      "| Processes:                                                       GPU Memory |\n",
      "|  GPU       PID   Type   Process name                             Usage      |\n",
      "|=============================================================================|\n",
      "|    0     17152      C   /raid/opt/hpc/anaconda/python3/bin/python  10617MiB |\n",
      "|    1     17152      C   /raid/opt/hpc/anaconda/python3/bin/python  10617MiB |\n",
      "|    2     17075      C   /raid/opt/hpc/anaconda/python3/bin/python   1758MiB |\n",
      "|    2     17152      C   /raid/opt/hpc/anaconda/python3/bin/python   8858MiB |\n",
      "|    2     28751      C   /raid/opt/hpc/anaconda/python3/bin/python   1430MiB |\n",
      "|    3     17152      C   /raid/opt/hpc/anaconda/python3/bin/python  10617MiB |\n",
      "+-----------------------------------------------------------------------------+\n"
     ]
    }
   ],
   "source": [
    "#check server status\n",
    "! nvidia-smi"
   ]
  },
  {
   "cell_type": "code",
   "execution_count": 2,
   "metadata": {},
   "outputs": [],
   "source": [
    "%config IPCompleter.greedy=True \n",
    "%matplotlib inline\n",
    "from matplotlib.pyplot import *\n",
    "from IPython.display import *\n",
    "import numpy as np"
   ]
  },
  {
   "cell_type": "code",
   "execution_count": 164,
   "metadata": {},
   "outputs": [
    {
     "name": "stdout",
     "output_type": "stream",
     "text": [
      "PyTorch version: 0.4.0\n",
      "Device  0 : TITAN V\n",
      "Device  1 : GeForce GTX 1080 Ti\n",
      "Device  2 : GeForce GTX 1080 Ti\n",
      "Device  3 : GeForce GTX 1080 Ti\n",
      "Current: Device  0\n"
     ]
    }
   ],
   "source": [
    "# Check GPU status:\n",
    "import torch as t\n",
    "print('PyTorch version:',t.__version__)\n",
    "if(t.cuda.is_available()):\n",
    "    for i in range(t.cuda.device_count()):\n",
    "        print('Device ',i,':',t.cuda.get_device_name(i))\n",
    "    print('Current: Device ',t.cuda.current_device())\n",
    "    t.backends.cudnn.benchmark = True \n",
    "else:\n",
    "    print('No GPU')"
   ]
  },
  {
   "cell_type": "markdown",
   "metadata": {},
   "source": [
    "## 1 Tuning the performance of a neural net (10 points)"
   ]
  },
  {
   "cell_type": "markdown",
   "metadata": {},
   "source": [
    "### 1.1 Problem\n",
    "In the section 4.1 of 11_examples.ipynb, the neural network implemented in NumPy with two hidden layers could reach 90% classification accuracy on the MNIST training data only within 3 learning epochs:\n",
    "\n",
    "<pre>\n",
    "model=MultiLayerNetExtend(input_size=784, hidden_size_list=[100, 100], output_size=10,\n",
    "                          weight_init_std=weight_init_std, use_batchnorm=True, use_dropout=True)\n",
    "</pre>\n",
    "\n",
    "However, in the section 4.2, a similar network implemented in PyTorch did not reached 90% clasification accuracy model on the MNIST training data until 350 learning epochs: \n",
    "\n",
    "<pre>\n",
    "model = t.nn.Sequential(\n",
    "    t.nn.Linear(D_in, H),\n",
    "    t.nn.BatchNorm1d(H),\n",
    "    t.nn.ReLU(),\n",
    "    #t.nn.Dropout(p=0.5),\n",
    "    t.nn.Linear(H, H),\n",
    "    t.nn.BatchNorm1d(H),\n",
    "    t.nn.ReLU(),\n",
    "    #t.nn.Dropout(p=0.5),\n",
    "    t.nn.Linear(H, D_out),\n",
    "    t.nn.Softmax()\n",
    ")\n",
    "</pre>\n",
    "\n",
    "Your goal is to do whatever you can to help the PyTorch net reach 90% classification accuracy on the MNIST training data within 50 or less epochs."
   ]
  },
  {
   "cell_type": "markdown",
   "metadata": {},
   "source": [
    "### 1.2 Tips\n",
    "\n",
    "First try to eliminate the differences between the NumPy net and the PyTorch net:\n",
    "\n",
    "(1) The PyTorch version did not use 50% Dropout.\n",
    "\n",
    "(2) The PyTorch used Adam with a learning rate of 1e-4 as an optimizer instead of SGD with a learning rate of 1e-2.\n",
    "\n",
    "(3) The PyTroch version did not use shuffled batch (100 samples) in each training epoch.\n",
    "\n",
    "(4) The NumPy version used He initialization on NORMAL W and ZEROED b:\n",
    "<pre>\n",
    "    def __init_weight(self, weight_init_std):\n",
    "\n",
    "        all_size_list = [self.input_size] + self.hidden_size_list + [self.output_size]\n",
    "        for idx in range(1, len(all_size_list)):\n",
    "            scale = weight_init_std\n",
    "            if str(weight_init_std).lower() in ('relu', 'he'):\n",
    "                <font color=\"red\">scale = np.sqrt(2.0 / all_size_list[idx - 1])  # for ReLu</font>\n",
    "            elif str(weight_init_std).lower() in ('sigmoid', 'xavier'):\n",
    "                scale = np.sqrt(1.0 / all_size_list[idx - 1])  # for Sigmoid\n",
    "            <font color=\"blue\">self.params['W' + str(idx)] = scale * np.random.randn(all_size_list[idx-1], all_size_list[idx])\n",
    "            self.params['b' + str(idx)] = np.zeros(all_size_list[idx])</font>\n",
    "</pre>\n",
    "\n",
    "However, the PyTroch version used Xavier initialization on UNIFORM W and b for <a href=\"https://github.com/pytorch/pytorch/blob/master/torch/nn/modules/linear.py#L44-L48\">linear layers</a>:\n",
    "\n",
    "<pre>\n",
    "    def __init__(self, in_features, out_features, bias=True):\n",
    "        super(Linear, self).__init__()\n",
    "        self.in_features = in_features\n",
    "        self.out_features = out_features\n",
    "        self.weight = Parameter(torch.Tensor(out_features, in_features))\n",
    "        if bias:\n",
    "            self.bias = Parameter(torch.Tensor(out_features))\n",
    "        else:\n",
    "            self.register_parameter('bias', None)\n",
    "        <font color=\"red\">self.reset_parameters()</font>\n",
    "<font color=\"blue\">\n",
    "    def reset_parameters(self):\n",
    "        stdv = 1. / math.sqrt(self.weight.size(1))\n",
    "        self.weight.data.uniform_(-stdv, stdv)\n",
    "        if self.bias is not None:\n",
    "            self.bias.data.uniform_(-stdv, stdv)\n",
    "</font>\n",
    "</pre>\n",
    "\n",
    "(5)If removal of the above differences does not help, look for other differences or do whatever you can to accelerate learning of the PyTorch net.\n",
    "\n",
    "<b>(6) Do not waste your time on checking out training results after 50 epochs! They have nothing to do with your goal here.</b>"
   ]
  },
  {
   "cell_type": "markdown",
   "metadata": {},
   "source": [
    "### 1.3 Your codes and discussions"
   ]
  },
  {
   "cell_type": "markdown",
   "metadata": {},
   "source": [
    "小結論: <br>\n",
    "把tips都調過之後, 使用Adam當optimizer, learning_rate設1e-1, 可以讓epoch 50時準確率上到0.9.<br>\n",
    "以下為依序將Numpy版本和Pytorch版本code差異減少的結果.(疊加)<br>\n",
    "\n",
    "(0) 一開始的code大概在epoch 50時準確率0.6~0.7\n",
    "\n",
    "(1) 加入dropout後在epoch 50時準確率0.4~0.5\n",
    "\n",
    "(2) 改成SGD, 並設learning rate = 1e-1, 則準確率約在0.2~0.3. *:在這個階段, 反過來以準確率到0.90以上為目標調整learning rate, 則learning rate要調到2.8左右才能讓準確率達到0.9左右. \n",
    "\n",
    "(3) 加入shuffled batch( batch size = 100)之後準確率約在0.2~0.3\n",
    "\n",
    "(4) Numpy版本是每一層的weight一起normalize, 但在pytorch版本有點不知道怎麼改. 所以試了每一層的Weight normalization + bias=False, 這個對準確率也沒有特別有幫助(約在0.2左右)<br>\n",
    "\n",
    "(code參考: https://discuss.pytorch.org/t/how-to-use-torch-nn-init-normal-with-nn-linear/5828)\n",
    "\n",
    "Torch NN tutorial: https://ckmarkoh.github.io/blog/2016/12/19/torch-nn-tutorial-1-nn-module/"
   ]
  },
  {
   "cell_type": "markdown",
   "metadata": {},
   "source": [
    "#### 1.3.1 The MNIST dataset"
   ]
  },
  {
   "cell_type": "code",
   "execution_count": 3,
   "metadata": {},
   "outputs": [
    {
     "data": {
      "text/plain": [
       "('mnist.pkl.gz', <http.client.HTTPMessage at 0x2b1604cc6e80>)"
      ]
     },
     "execution_count": 3,
     "metadata": {},
     "output_type": "execute_result"
    }
   ],
   "source": [
    "# Download the dataset:\n",
    "import urllib.request\n",
    "urllib.request.urlretrieve('http://deeplearning.net/data/mnist/mnist.pkl.gz','mnist.pkl.gz')"
   ]
  },
  {
   "cell_type": "code",
   "execution_count": 152,
   "metadata": {
    "scrolled": true
   },
   "outputs": [
    {
     "name": "stderr",
     "output_type": "stream",
     "text": [
      "/raid/opt/hpc/anaconda/python3/lib/python3.6/site-packages/ipykernel_launcher.py:4: DeprecationWarning: invalid escape sequence '\\>'\n",
      "  after removing the cwd from sys.path.\n",
      "/raid/opt/hpc/anaconda/python3/lib/python3.6/site-packages/ipykernel_launcher.py:4: DeprecationWarning: invalid escape sequence '\\?'\n",
      "  after removing the cwd from sys.path.\n"
     ]
    },
    {
     "name": "stdout",
     "output_type": "stream",
     "text": [
      "(50000, 784) (50000,) (10000, 784) (10000,)\n",
      "0.0 0.99609375 0 9\n"
     ]
    },
    {
     "data": {
      "image/png": "[encoded data removed]",
      "text/plain": [
       "<matplotlib.figure.Figure at 0x7fab242f3898>"
      ]
     },
     "metadata": {},
     "output_type": "display_data"
    }
   ],
   "source": [
    "# Load the dataset:\n",
    "import pickle, gzip\n",
    "f = gzip.open('mnist.pkl.gz','rb')\n",
    "train_set, valid_set, test_set = pickle.load(f,encoding='unicode-escape')\n",
    "f.close()\n",
    "\n",
    "x_train,y_train=train_set[0],train_set[1]\n",
    "x_valid,y_valid=valid_set[0],valid_set[1]\n",
    "x_test,y_test=test_set[0],test_set[1]\n",
    "\n",
    "# Examine the dataset:\n",
    "print(x_train.shape,y_train.shape,x_test.shape,y_test.shape)\n",
    "print(np.min(x_train),np.max(x_train),np.min(y_train),np.max(y_train))\n",
    "for i in range(50):\n",
    "    subplot(5,10,i+1)\n",
    "    imshow(x_test[i].reshape([28,28]),cmap='gray');\n",
    "    title(str(y_test[i]));\n",
    "    axis('off')\n",
    "    \n",
    "# Transform NumPy arrays to PyTorch tensors:\n",
    "use_cuda=t.cuda.is_available()\n",
    "\n",
    "X_train=t.from_numpy(x_train)\n",
    "Y_train=t.from_numpy(y_train)\n",
    "X_test=t.from_numpy(x_test)\n",
    "Y_test=t.from_numpy(y_test)\n",
    "\n",
    "\n",
    "\n",
    "if(use_cuda):\n",
    "    X_train=X_train.cuda()\n",
    "    Y_train=Y_train.cuda()\n",
    "    X_test=X_test.cuda()\n",
    "    Y_test=Y_test.cuda()"
   ]
  },
  {
   "cell_type": "markdown",
   "metadata": {},
   "source": [
    "#### 1.3.2 Your systematic explorations"
   ]
  },
  {
   "cell_type": "code",
   "execution_count": 189,
   "metadata": {},
   "outputs": [
    {
     "name": "stderr",
     "output_type": "stream",
     "text": [
      "/raid/opt/hpc/anaconda/python3/lib/python3.6/site-packages/ipykernel_launcher.py:18: UserWarning: nn.init.normal is now deprecated in favor of nn.init.normal_.\n",
      "/raid/opt/hpc/anaconda/python3/lib/python3.6/site-packages/ipykernel_launcher.py:25: UserWarning: nn.init.normal is now deprecated in favor of nn.init.normal_.\n",
      "/raid/opt/hpc/anaconda/python3/lib/python3.6/site-packages/torch/nn/modules/container.py:91: UserWarning: Implicit dimension choice for softmax has been deprecated. Change the call to include dim=X as an argument.\n",
      "  input = module(input)\n"
     ]
    },
    {
     "name": "stdout",
     "output_type": "stream",
     "text": [
      "epoch  0 : 0.3178\n",
      "epoch  10 : 0.7812\n",
      "epoch  20 : 0.8454\n",
      "epoch  30 : 0.872\n",
      "epoch  40 : 0.8926\n",
      "epoch  50 : 0.9014\n"
     ]
    }
   ],
   "source": [
    "# Here is the PyTorch net:\n",
    "# N is batch size; D_in is input dimension;\n",
    "# H is hidden dimension; D_out is output dimension.\n",
    "\n",
    "            \n",
    "D_in,H,D_out=784,100,10\n",
    "batch_size = 5000\n",
    "train_size = x_train.shape[0]\n",
    "\n",
    "#batch_mask = np.random.choice(train_size, batch_size)\n",
    "#X_batch = X_train[batch_mask]\n",
    "#Y_batch = Y_train[batch_mask]\n",
    "\n",
    "\n",
    "\n",
    "# normal init\n",
    "l1 = t.nn.Linear(D_in, H, bias=False)\n",
    "t.nn.init.normal(l1.weight)\n",
    "#l = torch.nn.Linear(5,10)\n",
    "#torch.nn.init.kaiming_normal(l.weight)\n",
    "#torch.nn.init.normal(l.bias)\n",
    "\n",
    "l2 = t.nn.Linear(H, D_out, bias=False)\n",
    "#l2 = t.nn.Linear(H, D_out)\n",
    "t.nn.init.normal(l2.weight)\n",
    "\n",
    "\n",
    "# Training the network:\n",
    "model = t.nn.Sequential(\n",
    "    #t.nn.Linear(D_in, H),\n",
    "    l1,\n",
    "    t.nn.BatchNorm1d(H),\n",
    "    t.nn.ReLU(),\n",
    "    t.nn.Dropout(p=0.5),\n",
    "    \n",
    "    t.nn.Linear(H, H),\n",
    "    t.nn.BatchNorm1d(H),\n",
    "    t.nn.ReLU(),\n",
    "    t.nn.Dropout(p=0.5),\n",
    "    \n",
    "    #t.nn.Linear(H, D_out),\n",
    "    l2,\n",
    "    t.nn.Softmax()\n",
    ")\n",
    "\n",
    "loss_fn = t.nn.CrossEntropyLoss()\n",
    "#learning_rate = 1e-4\n",
    "#optimizer = t.optim.Adam(model.parameters(), lr=learning_rate) #https://pytorch.org/docs/stable/optim.html\n",
    "\n",
    "learning_rate = 1e-2\n",
    "optimizer = t.optim.SGD(model.parameters(), lr = learning_rate, momentum=0.9)\n",
    "\n",
    "if(use_cuda):\n",
    "    model=model.cuda()\n",
    "    loss_fn=loss_fn.cuda()\n",
    "    \n",
    "for i in range(51):\n",
    "    #add shuffle batch\n",
    "    batch_mask = np.random.choice(train_size, batch_size)\n",
    "    X_batch = X_train[batch_mask]\n",
    "    Y_batch = Y_train[batch_mask]\n",
    "    #X_batch = X_train\n",
    "    #Y_batch = Y_train\n",
    "\n",
    "    \n",
    "    # Forward pass:\n",
    "    #Y_pred = model(X_train)\n",
    "    Y_pred = model(X_batch)\n",
    "    \n",
    "    #loss = loss_fn(Y_pred, Y_train)\n",
    "    loss = loss_fn(Y_pred, Y_batch)\n",
    "    \n",
    "    # Zero the gradients before running the backward pass.\n",
    "    model.zero_grad()\n",
    "\n",
    "    # Backward pass:\n",
    "    loss.backward()\n",
    "\n",
    "    # Update the weights using gradient descent:\n",
    "    optimizer.step()\n",
    "    \n",
    "    # Check training accuracy:\n",
    "    if i % 10 == 0:\n",
    "        #Y_pred = model(X_train) # Y_pred.shape=[50000,10]\n",
    "        Y_pred = model(X_batch)\n",
    "        \n",
    "        Y_pred = t.max(Y_pred,1)[1] # Y_pred.shape=[50000]\n",
    "        #print('epoch ',i,':',(Y_pred==Y_train).sum().item()/Y_train.shape[0])\n",
    "        print('epoch ',i,':',(Y_pred==Y_batch).sum().item()/Y_batch.shape[0])"
   ]
  },
  {
   "cell_type": "code",
   "execution_count": null,
   "metadata": {},
   "outputs": [],
   "source": []
  }
 ],
 "metadata": {
  "kernelspec": {
   "display_name": "Python 3",
   "language": "python",
   "name": "python3"
  },
  "language_info": {
   "codemirror_mode": {
    "name": "ipython",
    "version": 3
   },
   "file_extension": ".py",
   "mimetype": "text/x-python",
   "name": "python",
   "nbconvert_exporter": "python",
   "pygments_lexer": "ipython3",
   "version": "3.6.3"
  }
 },
 "nbformat": 4,
 "nbformat_minor": 2
}
