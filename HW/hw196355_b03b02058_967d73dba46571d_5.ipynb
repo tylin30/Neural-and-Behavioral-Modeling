{
 "cells": [
  {
   "cell_type": "markdown",
   "metadata": {},
   "source": [
    "# Neural & Behavioral Modeling - Week 4 (Exercises)\n",
    "by 孫珮文 (b03b02058@ntu.edu.tw)"
   ]
  },
  {
   "cell_type": "code",
   "execution_count": 1,
   "metadata": {},
   "outputs": [],
   "source": [
    "%config IPCompleter.greedy=True \n",
    "%matplotlib inline\n",
    "from numpy import *\n",
    "from numpy import linalg as LA\n",
    "from sklearn.decomposition import PCA\n",
    "from matplotlib.pyplot import *\n",
    "import matplotlib.pyplot as plt\n",
    "from IPython.display import *\n",
    "import random\n",
    "import numpy as np\n",
    "import math\n",
    "from scipy import stats"
   ]
  },
  {
   "cell_type": "markdown",
   "metadata": {},
   "source": [
    "## 1 Replicate exisiting findings/models \n",
    "Based on your personal interest, please choose and replicate ONE of the following studies:\n",
    "\n",
    "1. <a href=\"http://ccl.northwestern.edu/netlogo/models/FlockingVeeFormations\">Flocking Vee Formations</a> in NetLogo's [Sample Models::Biology]\n",
    "\n",
    "2. <a href=\"http://ccl.northwestern.edu/netlogo/models/WolfSheepPredation\">Wolf-Sheep Predation</a> in NetLogo's [Sample Models::Biology] \n",
    "\n",
    "3. <a href=\"https://www.wetalk.tw/thread-36278-1-1.html\">MIT Matching Game</a>\n",
    "\n",
    "4. Gray, K., Rand, D. G., Ert, E., Lewis, K., Hershman, S., & Norton, M. I. (2014). <a href=\"http://www.mpmlab.org/groups/\">The emergence of “us and them” in 80 lines of code: Modeling group genesis in homogeneous populations</a>. Psychological Science, 25(4), 982-990. \n",
    "\n",
    "5. Luhmann, C. C., & Rajaram, S. (2015). <a href=\"http://journals.sagepub.com/doi/abs/10.1177/0956797615605798\">Memory transmission in small groups and large networks: An agent-based model</a>. Psychological Science, 26(12), 1909-1917."
   ]
  },
  {
   "cell_type": "code",
   "execution_count": 5,
   "metadata": {},
   "outputs": [
    {
     "name": "stdout",
     "output_type": "stream",
     "text": [
      "Number of Players = 12 , Number of Rounds = 1000\n",
      "Reciprocity = 3 ,Transitivity = 2 ,Cooperation Adjustment = 0\n",
      "ClusterCoeff = 1.0 \n",
      "AveragePayoff = 0.296\n"
     ]
    },
    {
     "data": {
      "image/png": "[encoded data removed]",
      "text/plain": [
       "<matplotlib.figure.Figure at 0x10e61c2b0>"
      ]
     },
     "metadata": {},
     "output_type": "display_data"
    }
   ],
   "source": [
    "# 4. The emergence of “us and them” in 80 lines of code\n",
    "\n",
    "def plot_world(SCORE):\n",
    "    clf() # clear previous figure\n",
    "    x = SCORE[:,0]+((np.random.rand(len(SCORE[:,0]), 1)-0.5)*0.1 ).flatten()\n",
    "    y = SCORE[:,1]+((np.random.rand(len(SCORE[:,0]), 1)-0.5)*0.1 ).flatten()\n",
    "    plt.scatter(x, y, s=200, facecolor='none',edgecolors='g')\n",
    "    plt.gca().set_adjustable(\"box\")\n",
    "    display(gcf()); clear_output(wait=True) # to allow dynamic plots\n",
    "    \n",
    "#------------------------------------------------#\n",
    "numplay = 12; numrounds = 1000; setpoint = 0.5; \n",
    "A = 0; r = 3; t = 2; graphrounds = 10;\n",
    "coopcoop = 1; coopdefect = -3; defectdefect = -1; defectcoop = 3;\n",
    "\n",
    "#------------------------------------------------#\n",
    "Probx = np.full((numplay, numplay), setpoint)\n",
    "fill_diagonal(Probx, 0)\n",
    "\n",
    "Payx = np.full((numplay), 0)\n",
    "Payx\n",
    "for rounds in range(1, numrounds+1):\n",
    "    n = math.ceil(random.random()*numplay)-1\n",
    "    m = math.ceil(random.random()*(numplay-1))-1\n",
    "    if m>=n:\n",
    "        m+=1 \n",
    "    ProbInt = Probx[n][m]  \n",
    "    \n",
    "    if ProbInt > random.random():\n",
    "        if ProbInt > (random.random()-A):\n",
    "            pnstr = 1;\n",
    "        else: \n",
    "            pnstr = 0;\n",
    "            \n",
    "        if ProbInt > (random.random()-A):\n",
    "            pmstr = 1\n",
    "        else:\n",
    "            pmstr = 0\n",
    "        #print(pmstr, pnstr)\n",
    "        \n",
    "        if pnstr ==0 and pmstr ==0:\n",
    "            Payx[n] += defectdefect\n",
    "            Payx[m] += defectdefect\n",
    "            \n",
    "            Probx[n][m] = ProbInt/r\n",
    "            Probx[m][n] = Probx[n][m]\n",
    "            #print(pnstr, pmstr, '00', Probx[n][m], Probx[m][n])\n",
    "            \n",
    "        elif pnstr ==0 and pmstr ==1:\n",
    "            Payx[n] += defectcoop\n",
    "            Payx[m] += coopdefect\n",
    "           # print(pnstr, pmstr, '01', Probx[n][m], Probx[m][n])\n",
    "            \n",
    "        elif pnstr ==1 and pmstr ==0:\n",
    "            Payx[n] += coopdefect\n",
    "            Payx[m] += defectcoop\n",
    "            #print(pnstr, pmstr, '10', Probx[n][m], Probx[m][n])\n",
    "            \n",
    "        elif pnstr ==1 and pmstr ==1:\n",
    "            Payx[n] += coopcoop\n",
    "            Payx[m] += coopcoop\n",
    "            \n",
    "            Probx[n][m] = 1-(1-ProbInt)/r\n",
    "            Probx[m][n] = Probx[n][m]\n",
    "            #print(pnstr, pmstr, '11', Probx[n][m], Probx[m][n])\n",
    "\n",
    "        if pnstr==1 and pmstr ==1:\n",
    "            for g in range(numplay):\n",
    "                if(g!=n and g!=m):\n",
    "                    if( abs(Probx[n][g]-setpoint) > abs(Probx[m][g]-setpoint) ):\n",
    "                        if(Probx[n][g] > setpoint):\n",
    "                            Probx[m][g] = 1 - (1-Probx[m][g])/t\n",
    "                            Probx[g][m] = Probx[m][g]\n",
    "                            \n",
    "                        elif(Probx[n][g] < setpoint):\n",
    "                            Probx[m][g] = Probx[m][g]/t\n",
    "                            Probx[g][m] = Probx[m][g]\n",
    "                            \n",
    "                    elif( abs( Probx[m][g]-setpoint) > abs(Probx[n][g]-setpoint) ):\n",
    "                        if(Probx[m][g] > setpoint):\n",
    "                            Probx[n][g] = 1 - (1-Probx[n][g])/t\n",
    "                            Probx[g][n] = Probx[n][g]\n",
    "                            \n",
    "                        elif(Probx[m][g] < setpoint):\n",
    "                            Probx[n][g] = Probx[n][g]/t\n",
    "                            Probx[g][n] = Probx[n][g]\n",
    "        #print(Probx)             \n",
    "        if( math.ceil(rounds/graphrounds)==(rounds/graphrounds) ):\n",
    "            pca = PCA(n_components=2)\n",
    "            SCORE = pca.fit_transform(Probx)\n",
    "            plot_world(SCORE)\n",
    "\n",
    "ClusterMatrix = Probx\n",
    "for g in range(numplay):\n",
    "    for h in range(numplay):\n",
    "        ClusterMatrix[g][h] += (random.random()-0.5)/1000\n",
    "\n",
    "ClusterMatrix = np.round(ClusterMatrix)\n",
    "\n",
    "Numerator = trace( LA.matrix_power(ClusterMatrix,3)) # matrix power != numeric power\n",
    "Denominator =sum( LA.matrix_power(ClusterMatrix,2)) - trace( LA.matrix_power(ClusterMatrix,2) )\n",
    "if Denominator ==0:\n",
    "    ClusterCoeff = 0\n",
    "else:\n",
    "    ClusterCoeff = Numerator/Denominator\n",
    "AveragePayoff = mean(Payx)*numplay/(numrounds*2)\n",
    "\n",
    "#print(Probx)\n",
    "print(\"Number of Players =\",numplay, \", Number of Rounds =\",numrounds)\n",
    "print(\"Reciprocity =\",r, \",Transitivity =\",t, \",Cooperation Adjustment =\", A)\n",
    "\n",
    "print('ClusterCoeff =',ClusterCoeff, '\\nAveragePayoff =', AveragePayoff)\n"
   ]
  },
  {
   "cell_type": "code",
   "execution_count": null,
   "metadata": {},
   "outputs": [],
   "source": []
  }
 ],
 "metadata": {
  "kernelspec": {
   "display_name": "Python 3",
   "language": "python",
   "name": "python3"
  },
  "language_info": {
   "codemirror_mode": {
    "name": "ipython",
    "version": 3
   },
   "file_extension": ".py",
   "mimetype": "text/x-python",
   "name": "python",
   "nbconvert_exporter": "python",
   "pygments_lexer": "ipython3",
   "version": "3.6.4"
  }
 },
 "nbformat": 4,
 "nbformat_minor": 2
}
