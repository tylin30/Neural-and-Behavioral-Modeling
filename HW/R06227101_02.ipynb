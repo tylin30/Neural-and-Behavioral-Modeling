{
 "cells": [
  {
   "cell_type": "markdown",
   "metadata": {},
   "source": [
    "# Neural & Behavioral Modeling - Week 1 (Exercises)\n",
    "by Your Name (Your Email)"
   ]
  },
  {
   "cell_type": "code",
   "execution_count": 2,
   "metadata": {
    "collapsed": true
   },
   "outputs": [],
   "source": [
    "%config IPCompleter.greedy=True \n",
    "%matplotlib inline\n",
    "from numpy import *\n",
    "from matplotlib.pyplot import *\n",
    "from IPython.display import *"
   ]
  },
  {
   "cell_type": "markdown",
   "metadata": {},
   "source": [
    "## 1 Party Simulation (5 points)\n",
    "This is a model of a cocktail party. The men and women at the party form groups. A party-goer becomes uncomfortable and switches groups if their current group has too many members of the opposite sex. What types of group result?"
   ]
  },
  {
   "cell_type": "markdown",
   "metadata": {},
   "source": [
    "### 1.1 Insert your codes to complete the simulation (2 points)"
   ]
  },
  {
   "cell_type": "code",
   "execution_count": 12,
   "metadata": {},
   "outputs": [
    {
     "name": "stdout",
     "output_type": "stream",
     "text": [
      "94\n"
     ]
    }
   ],
   "source": [
    "# Model parameters:\n",
    "Ngroups=10 #有多少團體\n",
    "Npeople=100  #多少人\n",
    "Tolerance=1 # tolerable propotion of the opposite sex\n",
    "\n",
    "# Supporting functions:\n",
    "class Person:\n",
    "    def __init__(self, Ngroups): #constructor\n",
    "        self.sex = random.randint(2) # 0=woman; 1=man\n",
    "        self.Ngroups=Ngroups\n",
    "        self.group = random.randint(Ngroups) # staying in which group?\n",
    "        \n",
    "    def leave(self):\n",
    "        options=delete(arange(self.Ngroups),self.group) # except the current group\n",
    "        self.group = int(random.choice(options,1)) # choosing a new group\n",
    "    \n",
    "def party_stats(people): # calculate the number of men & women in each group\n",
    "    Npeople=len(people)    #為何要這行？\n",
    "    sexes=[people[i].sex for i in range(Npeople)]\n",
    "    groups=[people[i].group for i in range(Npeople)]\n",
    "    counts=zeros((max(groups)+1,max(sexes)+1)) #製造出n x m的array\n",
    "    proportions=counts.copy()\n",
    "    \n",
    "    for p in range(Npeople):\n",
    "        counts[groups[p],sexes[p]]+=1\n",
    "    men_plus_women=sum(counts,1) # number of men and women in each group\n",
    "    men_plus_women[men_plus_women==0]=inf # to avoid \"dividing by zeros later\n",
    "    proportions[:,0]=counts[:,0]/men_plus_women # proportion of women in each group\n",
    "    proportions[:,1]=counts[:,1]/men_plus_women # proportion of men in each group\n",
    "    return counts, proportions # size=group*sex\n",
    "\n",
    "def plot_party(counts):\n",
    "    x=arange(len(counts))+1 # number of groups\n",
    "    clf() # clear previous figure\n",
    "    bar(x, counts[:,0], color = 'r') # women\n",
    "    bar(x, counts[:,1], color = 'b', bottom = counts[:,0]) # men on top of women in the plot\n",
    "    display(gcf()); clear_output(wait=True) # to allow dynamic plots\n",
    "    \n",
    "# Initialization:\n",
    "people = [Person(Ngroups) for i in range(Npeople)] # assign each person to a group\n",
    "Nhappy=0 # Number of happy people\n",
    "\n",
    "SimuTotal=0\n",
    "# Simulation:\n",
    "for j in range(100): #做N次模擬\n",
    "    print(\"simulation Times:\",j)\n",
    "#    print(Nhappy)\n",
    "    Nhappy=0\n",
    "    people = [Person(Ngroups) for i in range(Npeople)]\n",
    "    while(Nhappy<Npeople): # Simulation stops when everyone is happy\n",
    "        Nhappy = 0 # recounting after a new move\n",
    "        counts, proportions=party_stats(people) # size=group*sex\n",
    "        \n",
    "        # Insert your codes here to make everyone happy:\n",
    "        for i in range(Npeople):\n",
    "            if proportions[people[i].group][people[i].sex] <= (1-Tolerance): #同性別的人 > 異性\n",
    "                people[i].leave()\n",
    "            else: \n",
    "                Nhappy+=1\n",
    "    \n",
    "        # Plot new results:\n",
    "        counts, proportions=party_stats(people) # size=group*sex\n",
    "        #plot_party(counts)\n",
    "        SimuTotal = SimuTotal + 1\n",
    "    \n",
    "        print(\"SimuTotal:\",SimuTotal)\n",
    "\n",
    "\n",
    "#def simuloop():\n",
    "#    global SimuTimes\n",
    "#    Nhappy = 0\n",
    "#    while(Nhappy<Npeople): # Simulation stopswhen everyone is happy\n",
    "#        Nhappy = 0 # recounting after a new move\n",
    "#        print(\"1:\",Nhappy)\n",
    "#        counts, proportions=party_stats(people) # size=group*sex\n",
    "#        \n",
    "#        # Insert your codes here to make everyone happy:\n",
    "#        for i in range(Npeople):\n",
    "#            if proportions[people[i].group][people[i].sex] <= (1-Tolerance): #同性別的人 > 異性\n",
    "#                people[i].leave()\n",
    "#            else: \n",
    "#                Nhappy = Nhappy + 1\n",
    "#    \n",
    "#        # Plot new results:\n",
    "#        counts, proportions=party_stats(people) # size=group*sex\n",
    "#        plot_party(counts)\n",
    "#        SimuTimes +=1\n",
    "#        print(\"SimuTimes:\",SimuTimes)\n",
    "#        print(\"N2:\",Nhappy)\n",
    "#\n",
    "#\n",
    "#for j in range(10):\n",
    "#    simuloop()\n",
    "\n"
   ]
  },
  {
   "cell_type": "markdown",
   "metadata": {
    "collapsed": true
   },
   "source": [
    "### 1.2 Modify the three model parameters & discuss how each affects convergence of the simulation (2 points)"
   ]
  },
  {
   "cell_type": "markdown",
   "metadata": {},
   "source": [
    "結論是Ngroup愈大, Npeople愈少, Tolerance愈高就愈容易convergence.而Tolerance會是比較sensitive的變數。\n",
    "透過調整各個參數作100次simulation的convergence期望值來看也符合此結果。\n",
    "\n",
    "一開始的Initialization理想上每一個group的性別比會是1:1\n",
    "當Tolerance設得比0.5低時,很容易導致兩個性別都不滿意現況而離開, 亦即再一次Initialization\n",
    "所以可以想像成Initialization到只有某ㄧ性別不滿意要離開的機率愈大, 就和Initialization不同了,\n",
    "之後該group要讓當時離開的性別滿意的機率就愈小, convergence也會較快.\n",
    "\n",
    "而Ngroup愈大, Npeople愈少, 則每一個group分配到的人的期望值也下降, \n",
    "性別比的變異也會變大, 更容易突破tolerance, convergence也會比較快.\n",
    "\n",
    "其實總地來說, 在全隨機的狀態下, 要盡快讓leave時不要跟Initialization一樣(即兩個性別都不滿意),\n",
    "那就是讓性別比的變異變大, 或者是將tolerance設的寬一點.\n"
   ]
  },
  {
   "cell_type": "markdown",
   "metadata": {},
   "source": [
    "### 1.3 Discuss why the simulaiton leads to group polarization (1 point)"
   ]
  },
  {
   "cell_type": "markdown",
   "metadata": {},
   "source": [
    "當tolerance < 0.5時, 代表只要兩個性別人數相等, 大家就會不滿意,\n",
    "在此狀況下讓人滿意的方法勢必是一個group只有單一性別.\n",
    "\n",
    "而tolerance = 0.5則代表同一個group, 兩個性別的人數要相等或是一個group只有某一性別,\n",
    "在Ngroup < Npeople的狀態下, 前者是很困難的, 故也很有可能造成性別極化的現象.\n",
    "\n",
    "但是將tolerance設高一點就較不會有極化的現象了."
   ]
  },
  {
   "cell_type": "markdown",
   "metadata": {},
   "source": [
    "## 2 Understand Shunting Equation (5 points)\n",
    "\n",
    "$\\frac{dy}{dt}=-Ay+(B-y)*E-(y-C)*I$"
   ]
  },
  {
   "cell_type": "markdown",
   "metadata": {},
   "source": [
    "### 2.1 Find its equilibrium by analytically solving $dy/dt=0$ (1 point)"
   ]
  },
  {
   "cell_type": "markdown",
   "metadata": {},
   "source": [
    "Write your answer here with [LaTex](https://www.sharelatex.com/learn/Mathematical_expressions) formula"
   ]
  },
  {
   "cell_type": "markdown",
   "metadata": {},
   "source": [
    "### 2.2 Use Euler integration to verify your answer in 2.1 with your own (A, B, C, E, I) constants (2 points)\n"
   ]
  },
  {
   "cell_type": "code",
   "execution_count": 152,
   "metadata": {},
   "outputs": [
    {
     "data": {
      "text/plain": [
       "0"
      ]
     },
     "execution_count": 152,
     "metadata": {},
     "output_type": "execute_result"
    }
   ],
   "source": [
    "# Write your simulation codes here"
   ]
  },
  {
   "cell_type": "markdown",
   "metadata": {},
   "source": [
    "### 2.3 Combining math & if-then controls in numerical integrations (2 points)\n",
    "\n",
    "Use Euler integration to plot $dy/dt=-y(t)+E$ where\n",
    "$E=\\begin{cases}\n",
    "    1  &  \\text{if } t<5\\\\\n",
    "    0  &  \\text{if } t>5\n",
    "   \\end{cases}$\n",
    "for t=[0,10] & y(t=0)=0.\n",
    "\n",
    "This is an example of time-varying rather than constant excitation."
   ]
  },
  {
   "cell_type": "markdown",
   "metadata": {},
   "source": [
    "Heaviside step function: https://en.wikipedia.org/wiki/Heaviside_step_function\n",
    "\n",
    "key word: python Heaviside (取代if,then)"
   ]
  },
  {
   "cell_type": "code",
   "execution_count": 2,
   "metadata": {},
   "outputs": [
    {
     "ename": "NameError",
     "evalue": "name 'np' is not defined",
     "output_type": "error",
     "traceback": [
      "\u001b[0;31m---------------------------------------------------------------------------\u001b[0m",
      "\u001b[0;31mNameError\u001b[0m                                 Traceback (most recent call last)",
      "\u001b[0;32m<ipython-input-2-d6027401bfeb>\u001b[0m in \u001b[0;36m<module>\u001b[0;34m()\u001b[0m\n\u001b[1;32m      1\u001b[0m \u001b[0;31m# Write your simulation codes here\u001b[0m\u001b[0;34m\u001b[0m\u001b[0;34m\u001b[0m\u001b[0m\n\u001b[0;32m----> 2\u001b[0;31m \u001b[0mnp\u001b[0m\u001b[0;34m.\u001b[0m\u001b[0mheaviside\u001b[0m\u001b[0;34m(\u001b[0m\u001b[0;34m)\u001b[0m\u001b[0;34m\u001b[0m\u001b[0m\n\u001b[0m\u001b[1;32m      3\u001b[0m \u001b[0;31m#for t:\u001b[0m\u001b[0;34m\u001b[0m\u001b[0;34m\u001b[0m\u001b[0m\n\u001b[1;32m      4\u001b[0m \u001b[0;31m#    if(t>5):\u001b[0m\u001b[0;34m\u001b[0m\u001b[0;34m\u001b[0m\u001b[0m\n\u001b[1;32m      5\u001b[0m \u001b[0;31m#    y2=y1+dt*(-y)\u001b[0m\u001b[0;34m\u001b[0m\u001b[0;34m\u001b[0m\u001b[0m\n",
      "\u001b[0;31mNameError\u001b[0m: name 'np' is not defined"
     ]
    }
   ],
   "source": [
    "# Write your simulation codes here\n",
    "#for t:\n",
    "#    if(t>5):\n",
    "#    y2=y1+dt*(-y)\n",
    "#    ..."
   ]
  },
  {
   "cell_type": "code",
   "execution_count": null,
   "metadata": {
    "collapsed": true
   },
   "outputs": [],
   "source": []
  },
  {
   "cell_type": "code",
   "execution_count": null,
   "metadata": {
    "collapsed": true
   },
   "outputs": [],
   "source": []
  }
 ],
 "metadata": {
  "kernelspec": {
   "display_name": "Python 3",
   "language": "python",
   "name": "python3"
  },
  "language_info": {
   "codemirror_mode": {
    "name": "ipython",
    "version": 3
   },
   "file_extension": ".py",
   "mimetype": "text/x-python",
   "name": "python",
   "nbconvert_exporter": "python",
   "pygments_lexer": "ipython3",
   "version": "3.6.3"
  }
 },
 "nbformat": 4,
 "nbformat_minor": 2
}
