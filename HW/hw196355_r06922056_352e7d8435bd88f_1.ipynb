{
 "cells": [
  {
   "cell_type": "markdown",
   "metadata": {},
   "source": [
    "# Neural & Behavioral Modeling - Week 4 (Exercises)\n",
    "by 蔡承威 (r06922056@ntu.edu.tw)"
   ]
  },
  {
   "cell_type": "code",
   "execution_count": 16,
   "metadata": {
    "collapsed": true
   },
   "outputs": [],
   "source": [
    "%config IPCompleter.greedy=True \n",
    "%matplotlib inline\n",
    "import copy\n",
    "import numpy as np\n",
    "import matplotlib.pyplot as plt\n",
    "from IPython.display import *\n",
    "from tqdm import tqdm"
   ]
  },
  {
   "cell_type": "markdown",
   "metadata": {},
   "source": [
    "## 1 Replicate exisiting findings/models \n",
    "Based on your personal interest, please choose and replicate ONE of the following studies:\n",
    "\n",
    "1. <a href=\"http://ccl.northwestern.edu/netlogo/models/FlockingVeeFormations\">Flocking Vee Formations</a> in NetLogo's [Sample Models::Biology] \n",
    "\n",
    "2. <a href=\"http://ccl.northwestern.edu/netlogo/models/WolfSheepPredation\">Wolf-Sheep Predation</a> in NetLogo's [Sample Models::Biology] \n",
    "\n",
    "3. <a href=\"https://www.wetalk.tw/thread-36278-1-1.html\">MIT Matching Game</a>\n",
    "\n",
    "4. Gray, K., Rand, D. G., Ert, E., Lewis, K., Hershman, S., & Norton, M. I. (2014). <a href=\"http://www.mpmlab.org/groups/\">The emergence of “us and them” in 80 lines of code: Modeling group genesis in homogeneous populations</a>. Psychological Science, 25(4), 982-990.\n",
    "\n",
    "5. Luhmann, C. C., & Rajaram, S. (2015). <a href=\"http://journals.sagepub.com/doi/abs/10.1177/0956797615605798\">Memory transmission in small groups and large networks: An agent-based model</a>. Psychological Science, 26(12), 1909-1917."
   ]
  },
  {
   "cell_type": "code",
   "execution_count": 2,
   "metadata": {
    "collapsed": true
   },
   "outputs": [],
   "source": [
    "class Agent(object):\n",
    "    def __init__(self, id, alpha=.2, beta=.05, gama=.75, n_items=40):\n",
    "        self.id = str(id)\n",
    "        self.alpha = alpha\n",
    "        self.beta = beta\n",
    "        self.gama = gama\n",
    "        self.n_items = n_items\n",
    "        self.A = np.ones(self.n_items) / n_items # uniform initialization\n",
    "        self.S = np.random.rand(self.n_items, self.n_items) * 0.4 - 0.2\n",
    "        self.retrived_items = set()\n",
    "        \n",
    "    def _reduceMax(self):\n",
    "        max_i = np.argmax(self.A)\n",
    "        self.A[max_i] += -self.beta * self.A[max_i]\n",
    "    \n",
    "    def _reduceMaxAssociate(self):\n",
    "        max_i = np.argmax(self.A)\n",
    "        max_asso = list(range(self.n_items))\n",
    "        max_asso.remove(max_i)\n",
    "        for j in max_asso:\n",
    "            self.A[j] += -self.beta * self.S[max_i][j] *self.A[j]\n",
    "    \n",
    "    def _increaseTarget(self, i):\n",
    "        self.A[i] += self.alpha * (1 - self.A[i])\n",
    "    \n",
    "    def _increaseTargetAssociate(self, i):\n",
    "        target_asso = list(range(self.n_items))\n",
    "        target_asso.remove(i)\n",
    "        for j in target_asso:\n",
    "            self.A[j] += self.beta * self.S[i][j] * self.A[j]\n",
    "        return\n",
    "    \n",
    "    def encode(self, i):\n",
    "        assert(i is not None)\n",
    "        max_item = np.argmax(self.A)\n",
    "        if i != max_item:\n",
    "            self._reduceMax()\n",
    "            self._reduceMaxAssociate()\n",
    "        self._increaseTarget(i)\n",
    "        self.A = self.A / np.sum(self.A)  # normalization\n",
    "        return\n",
    "    \n",
    "    def retrieve(self, latest_retrieved):\n",
    "        if np.random.binomial(1, p=self.gama) != 1:\n",
    "            return None\n",
    "        i = np.random.choice(self.n_items, 1, p=self.A)[0]\n",
    "        if  i == latest_retrieved:\n",
    "            return None\n",
    "        else: # successlly retricve and update memory A\n",
    "            self._increaseTargetAssociate(i)\n",
    "            max_item = np.argmax(self.A)\n",
    "            if i != max_item:\n",
    "                self._reduceMax()\n",
    "                self._reduceMaxAssociate()\n",
    "            self._increaseTarget(i)\n",
    "            self.A = self.A / np.sum(self.A)  # normalization\n",
    "            self.retrived_items.update(str(i))\n",
    "            return i    "
   ]
  },
  {
   "cell_type": "code",
   "execution_count": 3,
   "metadata": {},
   "outputs": [],
   "source": [
    "n_group = 3\n",
    "n_rounds = 20\n",
    "n_items = 40\n",
    "\n",
    "def conduct_experiment_once(n_group = 3, n_rounds = 20, n_items = 40):\n",
    "    Agents = [Agent(i) for i in range(n_group)]\n",
    "    # encoding phase\n",
    "    encode_list = np.arange(n_items)\n",
    "    np.random.shuffle(encode_list)\n",
    "    for a in Agents:\n",
    "        for i in encode_list:\n",
    "            a.encode(i)\n",
    "\n",
    "    # retrieve phase of control\n",
    "    Agents_control = copy.deepcopy(Agents)\n",
    "    latest_retrieved = [None] * n_group\n",
    "    for r in range(n_rounds):\n",
    "        for i, a in enumerate(Agents_control):\n",
    "            latest_retrieved[i] = a.retrieve(latest_retrieved[i])\n",
    "\n",
    "    # retrieve phase of case\n",
    "    latest_retrieved = None\n",
    "    for r in range(n_rounds):\n",
    "        select = np.arange(n_group)\n",
    "        np.random.shuffle(select)\n",
    "        for s in select:\n",
    "            latest_retrieved = Agents[s].retrieve(latest_retrieved)\n",
    "            if latest_retrieved is not None:\n",
    "                others = select.tolist()\n",
    "                others.remove(s)\n",
    "                for o in others:\n",
    "                    Agents[o].encode(latest_retrieved)\n",
    "    return Agents, Agents_control\n",
    "\n",
    "Agents, Agents_control = conduct_experiment_once()"
   ]
  },
  {
   "cell_type": "code",
   "execution_count": 4,
   "metadata": {},
   "outputs": [
    {
     "name": "stdout",
     "output_type": "stream",
     "text": [
      "{'0', '1', '4', '3'}\n",
      "{'5', '3', '7', '1', '2'}\n",
      "{'0', '1', '4', '3'}\n",
      "Recall number in average  = 4.333333333333333\n",
      "Nominal Recall = {'5', '3', '7', '0', '1', '4', '2'}\n",
      "Nominal Recall Number = 7\n"
     ]
    }
   ],
   "source": [
    "average_group = 0\n",
    "nominal_group = set()\n",
    "for i in range(n_group):\n",
    "    print(Agents_control[i].retrived_items)\n",
    "    average_group += len(Agents_control[i].retrived_items)\n",
    "    nominal_group.update(Agents_control[i].retrived_items)\n",
    "print('Recall number in average  = {}'.format(average_group / n_group))\n",
    "print('Nominal Recall = {}'.format(nominal_group))\n",
    "print('Nominal Recall Number = {}'.format(len(nominal_group)))"
   ]
  },
  {
   "cell_type": "code",
   "execution_count": 5,
   "metadata": {},
   "outputs": [
    {
     "name": "stdout",
     "output_type": "stream",
     "text": [
      "{'9', '3', '7', '0', '1', '4'}\n",
      "{'9', '3', '7', '1', '4'}\n",
      "{'9', '3', '7', '0', '1'}\n",
      "Collaborative Recall = {'9', '3', '7', '0', '1', '4'}\n",
      "Collaborative Recall Number= 6\n"
     ]
    }
   ],
   "source": [
    "collaboratvie_group = set()\n",
    "for i in range(n_group):\n",
    "    print(Agents[i].retrived_items)\n",
    "    collaboratvie_group.update(Agents[i].retrived_items)\n",
    "print('Collaborative Recall = {}'.format(collaboratvie_group))\n",
    "print('Collaborative Recall Number= {}'.format(len(collaboratvie_group)))"
   ]
  },
  {
   "cell_type": "markdown",
   "metadata": {},
   "source": [
    "# Study 1 - Validating the Agent Model"
   ]
  },
  {
   "cell_type": "code",
   "execution_count": 11,
   "metadata": {},
   "outputs": [
    {
     "name": "stderr",
     "output_type": "stream",
     "text": [
      "100%|██████████| 1000/1000 [00:43<00:00, 22.75it/s]"
     ]
    },
    {
     "name": "stdout",
     "output_type": "stream",
     "text": [
      "Group Size = 3\n",
      "Average Recall = 5.72866666666666\n",
      "Nominal Recall = 8.056\n",
      "Collaberative Recall = 6.249\n"
     ]
    },
    {
     "name": "stderr",
     "output_type": "stream",
     "text": [
      "\n"
     ]
    }
   ],
   "source": [
    "n_experiment = 1000\n",
    "n_group = 3\n",
    "n_rounds = 20\n",
    "n_items = 40\n",
    "\n",
    "average_st = [] \n",
    "nominal_st = []\n",
    "collaborative_st = []\n",
    "\n",
    "for e in tqdm(range(n_experiment)):\n",
    "    Agents, Agents_control = conduct_experiment_once()\n",
    "    # control\n",
    "    average_group = 0\n",
    "    nominal_group = set()\n",
    "    for i in range(n_group):\n",
    "        average_group += len(Agents_control[i].retrived_items)\n",
    "        nominal_group.update(Agents_control[i].retrived_items)\n",
    "    # case\n",
    "    collaboratvie_group = set()\n",
    "    for i in range(n_group):\n",
    "        collaboratvie_group.update(Agents[i].retrived_items)\n",
    "        \n",
    "    average_st.append(average_group / n_group)\n",
    "    nominal_st.append(len(nominal_group))\n",
    "    collaborative_st.append(len(collaboratvie_group))\n",
    "\n",
    "print('Group Size = {}'.format(n_group))\n",
    "print('Average Recall = {}'.format(sum(average_st) / n_experiment))\n",
    "print('Nominal Recall = {}'.format(sum(nominal_st) / n_experiment))\n",
    "print('Collaberative Recall = {}'.format(sum(collaborative_st) / n_experiment))"
   ]
  },
  {
   "cell_type": "markdown",
   "metadata": {},
   "source": [
    "# Study 2- Group Size"
   ]
  },
  {
   "cell_type": "code",
   "execution_count": 15,
   "metadata": {},
   "outputs": [
    {
     "name": "stderr",
     "output_type": "stream",
     "text": [
      "\n",
      "  0%|          | 0/1000 [00:00<?, ?it/s]\u001b[A\n",
      "  0%|          | 5/1000 [00:00<00:22, 45.12it/s]\u001b[A\n",
      "  1%|          | 9/1000 [00:00<00:24, 41.03it/s]\u001b[A\n",
      "  1%|▏         | 13/1000 [00:00<00:24, 40.19it/s]\u001b[A\n",
      "  2%|▏         | 17/1000 [00:00<00:25, 38.58it/s]\u001b[A\n",
      "  2%|▏         | 20/1000 [00:00<00:27, 36.04it/s]Exception in thread Thread-12:\n",
      "Traceback (most recent call last):\n",
      "  File \"/Users/Dennis/anaconda3/lib/python3.6/threading.py\", line 916, in _bootstrap_inner\n",
      "    self.run()\n",
      "  File \"/Users/Dennis/anaconda3/lib/python3.6/site-packages/tqdm/_tqdm.py\", line 144, in run\n",
      "    for instance in self.tqdm_cls._instances:\n",
      "  File \"/Users/Dennis/anaconda3/lib/python3.6/_weakrefset.py\", line 60, in __iter__\n",
      "    for itemref in self.data:\n",
      "RuntimeError: Set changed size during iteration\n",
      "\n",
      "100%|██████████| 1000/1000 [00:21<00:00, 46.62it/s]\n",
      "100%|██████████| 1000/1000 [00:33<00:00, 29.87it/s]\n",
      "100%|██████████| 1000/1000 [00:47<00:00, 21.23it/s]\n"
     ]
    }
   ],
   "source": [
    "min_group_size = 2\n",
    "max_group_size = 4\n",
    "average_g = [] \n",
    "nominal_g = []\n",
    "collaborative_g = []\n",
    "\n",
    "for n in range(min_group_size, max_group_size + 1):\n",
    "    \n",
    "    average_st = [] \n",
    "    nominal_st = []\n",
    "    collaborative_st = []\n",
    "    for e in tqdm(range(n_experiment)):\n",
    "        Agents, Agents_control = conduct_experiment_once(n_group=n)\n",
    "        # control\n",
    "        average_group = 0\n",
    "        nominal_group = set()\n",
    "        for i in range(n):\n",
    "            average_group += len(Agents_control[i].retrived_items)\n",
    "            nominal_group.update(Agents_control[i].retrived_items)\n",
    "        # case\n",
    "        collaboratvie_group = set()\n",
    "        for i in range(n):\n",
    "            collaboratvie_group.update(Agents[i].retrived_items)\n",
    "\n",
    "        average_st.append(average_group / n)\n",
    "        nominal_st.append(len(nominal_group))\n",
    "        collaborative_st.append(len(collaboratvie_group))\n",
    "\n",
    "    average_g.append(sum(average_st) / n_experiment)\n",
    "    nominal_g.append(sum(nominal_st) / n_experiment)\n",
    "    collaborative_g.append(sum(collaborative_st) / n_experiment)"
   ]
  },
  {
   "cell_type": "code",
   "execution_count": 18,
   "metadata": {},
   "outputs": [
    {
     "data": {
      "image/png": "[encoded data removed]",
      "text/plain": [
       "<Figure size 432x288 with 1 Axes>"
      ]
     },
     "metadata": {},
     "output_type": "display_data"
    }
   ],
   "source": [
    "plt.plot(average_g, range(min_group_size, max_group_size + 1), 'bv')\n",
    "plt.plot(nominal_g, range(min_group_size, max_group_size + 1), 'rv')\n",
    "plt.plot(collaborative_g, range(min_group_size, max_group_size + 1), 'gv')\n",
    "plt.legend(['Average Recall','Nominal Recall', 'Collaborative Recall']);"
   ]
  },
  {
   "cell_type": "code",
   "execution_count": null,
   "metadata": {},
   "outputs": [],
   "source": []
  }
 ],
 "metadata": {
  "kernelspec": {
   "display_name": "Python 3",
   "language": "python",
   "name": "python3"
  },
  "language_info": {
   "codemirror_mode": {
    "name": "ipython",
    "version": 3
   },
   "file_extension": ".py",
   "mimetype": "text/x-python",
   "name": "python",
   "nbconvert_exporter": "python",
   "pygments_lexer": "ipython3",
   "version": "3.6.4"
  }
 },
 "nbformat": 4,
 "nbformat_minor": 2
}
