{
 "cells": [
  {
   "cell_type": "markdown",
   "metadata": {},
   "source": [
    "# Neural & Behavioral Modeling - Week 4 (Exercises)\n",
    "by Hsuan Fu Lin (b03201038@ntu.edu.tw)"
   ]
  },
  {
   "cell_type": "code",
   "execution_count": null,
   "metadata": {
    "collapsed": true
   },
   "outputs": [],
   "source": [
    "%config IPCompleter.greedy=True \n",
    "%matplotlib inline\n",
    "from numpy import *\n",
    "from math import *\n",
    "from matplotlib.pyplot import *\n",
    "from IPython.display import *"
   ]
  },
  {
   "cell_type": "markdown",
   "metadata": {},
   "source": [
    "## 1 Replicate exisiting findings/models \n",
    "Based on your personal interest, please choose and replicate ONE of the following studies:\n",
    "\n",
    "1. <a href=\"http://ccl.northwestern.edu/netlogo/models/FlockingVeeFormations\">Flocking Vee Formations</a> in NetLogo's [Sample Models::Biology] \n",
    "\n",
    "2. <a href=\"http://ccl.northwestern.edu/netlogo/models/WolfSheepPredation\">Wolf-Sheep Predation</a> in NetLogo's [Sample Models::Biology] \n",
    "\n",
    "3. <a href=\"https://www.wetalk.tw/thread-36278-1-1.html\">MIT Matching Game</a>\n",
    "\n",
    "4. Gray, K., Rand, D. G., Ert, E., Lewis, K., Hershman, S., & Norton, M. I. (2014). <a href=\"http://www.mpmlab.org/groups/\">The emergence of “us and them” in 80 lines of code: Modeling group genesis in homogeneous populations</a>. Psychological Science, 25(4), 982-990.\n",
    "\n",
    "5. Luhmann, C. C., & Rajaram, S. (2015). <a href=\"http://journals.sagepub.com/doi/abs/10.1177/0956797615605798\">Memory transmission in small groups and large networks: An agent-based model</a>. Psychological Science, 26(12), 1909-1917."
   ]
  },
  {
   "cell_type": "markdown",
   "metadata": {
    "collapsed": true
   },
   "source": [
    "4.\n",
    "Gray, K., Rand, D. G., Ert, E., Lewis, K., Hershman, S., & Norton, M. I. (2014). The emergence of “us and them” in 80 lines of code: Modeling group genesis in homogeneous populations. Psychological Science, 25(4), 982-990."
   ]
  },
  {
   "cell_type": "code",
   "execution_count": null,
   "metadata": {},
   "outputs": [
    {
     "data": {
      "image/png": "[encoded data removed]",
      "text/plain": [
       "<matplotlib.figure.Figure at 0x114ade940>"
      ]
     },
     "metadata": {},
     "output_type": "display_data"
    }
   ],
   "source": [
    "# Model parameters:\n",
    "Nboids=50 \n",
    "world=[0,500,0,500] # world boundaries\n",
    "\n",
    "speed=10\n",
    "speed_change_vactor = .15 \n",
    "updraft_distance = 20\n",
    "too_close=10\n",
    "max_turn=pi/45\n",
    "\n",
    "vision_distance = 50\n",
    "vision_cone = pi*2/3\n",
    "obstruction_cone = pi/4\n",
    "\n",
    "\n",
    "repulsion_dis=10   # repulsion distance\n",
    "alignment_dis=80   # alignment distance\n",
    "attraction_dis=100 # attraction distance\n",
    "\n",
    "# Supporting functions:\n",
    "class Boid:\n",
    "    \n",
    "    def __init__(self,world):\n",
    "        world_size=max(world)\n",
    "        self.position=world_size*random.rand(2) \n",
    "        self.speed = speed\n",
    "        temp_dir=random.rand(2)                    #unit vector\n",
    "        self.direction=temp_dir/linalg.norm(temp_dir)\n",
    "        \n",
    "        \n",
    "    def move(self,world,boids,distance,me):\n",
    "        vision_group=[j for j in range(Nboids) if distance[j]<vision_distance and j!=me and dot((boids[j].position-self.position)/linalg.norm(boids[j].position-self.position),self.direction)>cos(vision_cone/2)]\n",
    "        \n",
    "        if len(vision_group)>0:\n",
    "            #for j in vision_group:\n",
    "            #    print(len(vision_group),distance[j],j)\n",
    "            #    print(self.position,me)\n",
    "            closest_distance,closest_neighbor= min((distance[j],j) for j in vision_group if distance[j]>0 )\n",
    "            # if i am too close to the nearest bird slow down\n",
    "            if closest_distance < too_close:\n",
    "                self.speed = self.speed*(1-speed_change_vactor)\n",
    "            # if I am too far away from the nearest bird I can see, then try to get near them\n",
    "            elif closest_distance > updraft_distance:\n",
    "                self.direction = (boids[closest_neighbor].position-self.position)/linalg.norm(boids[closest_neighbor].position-self.position)\n",
    "                self.speed = self.speed*(1+speed_change_vactor)\n",
    "            # if my view is obstructed, move sideways randomly\n",
    "            else:\n",
    "                obstruction=0\n",
    "                for j in vision_group:\n",
    "                    if dot((boids[j].position-self.position),self.direction)/linalg.norm(boids[j].position-self.position) > cos(obstruction_cone) :  \n",
    "                        random_side = max_turn*2*random.rand() - max_turn\n",
    "                        A = self.direction[0]\n",
    "                        B = self.direction[1]\n",
    "                        self.direction = [cos(random_side)*A-sin(random_side)*B,sin(random_side)*A+cos(random_side)*B]\n",
    "                        obstruction=1\n",
    "                if obstruction==1:\n",
    "                    self.speed = self.speed*(1+speed_change_vactor)\n",
    "                else:\n",
    "                    self.direction = (boids[closest_neighbor].position-self.position)/linalg.norm(boids[closest_neighbor].position-self.position)\n",
    "                    \n",
    "                \n",
    "                    \n",
    "            \n",
    "        # For all cases (including the case of no neighbors at all):\n",
    "        self.direction/=linalg.norm(self.direction) # make it a unit vector\n",
    "        self.position=self.position+self.direction*speed\n",
    "        self.position=mod(self.position,max(world)) # cyclic boundary\n",
    "\n",
    "def plot_world(world,boids):\n",
    "    clf() # clear previous figure\n",
    "    for b in boids:\n",
    "        plot(b.position[0],b.position[1],'r>')\n",
    "    axis(world)\n",
    "    display(gcf()); clear_output(wait=True) # to allow dynamic plots\n",
    "    \n",
    "# Initialization:\n",
    "boids=[Boid(world) for i in range(Nboids)] # assign each boid to a position\n",
    "\n",
    "for t in range(500):\n",
    "    \n",
    "    # Calculate some pairwise distances in vision before anyone moves:\n",
    "    distance=zeros([Nboids,Nboids])\n",
    "    for i in range(Nboids):\n",
    "        for j in range(i+1,Nboids):\n",
    "            distance[i,j]=linalg.norm(boids[i].position-boids[j].position)\n",
    "            distance[j,i]=distance[i,j]\n",
    "\n",
    "        \n",
    "        \n",
    "    \n",
    "    # Move according to the three rules:       \n",
    "    for i in range(Nboids):\n",
    "        boids[i].move(world,boids,distance[i,:],i)\n",
    "        \n",
    "    plot_world(world,boids)"
   ]
  },
  {
   "cell_type": "code",
   "execution_count": null,
   "metadata": {
    "collapsed": true
   },
   "outputs": [],
   "source": []
  }
 ],
 "metadata": {
  "kernelspec": {
   "display_name": "Python 3",
   "language": "python",
   "name": "python3"
  }
 },
 "nbformat": 4,
 "nbformat_minor": 2
}
